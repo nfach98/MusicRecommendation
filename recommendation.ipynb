{
  "cells": [
    {
      "cell_type": "code",
      "execution_count": null,
      "metadata": {
        "id": "rWbNCIoea4Dg"
      },
      "outputs": [],
      "source": [
        "import pandas as pd\n",
        "import numpy as np\n",
        "import re\n",
        "from collections import Counter\n",
        "import matplotlib.pyplot as plt\n",
        "from sklearn.feature_extraction.text import TfidfVectorizer\n",
        "from sklearn.metrics.pairwise import cosine_similarity\n",
        "from sklearn.metrics import mean_squared_error\n",
        "from wordcloud import WordCloud\n",
        "import random\n",
        "import tensorflow as tf\n",
        "from tensorflow import keras\n",
        "from tensorflow.keras import layers"
      ]
    },
    {
      "cell_type": "markdown",
      "metadata": {
        "id": "aC9k_qQlagQM"
      },
      "source": [
        "# **Data Loading**\n",
        "Menggunakan dua dataset, yaitu dataset lagu yang nantinya disebut dataset track dan riwayat lagu yang didengarkan disebut dataset user.\n",
        "Dataset track berisi 114.000 baris dengan 20 kolom tentang detail informasi lagu seperti judul, artis, genre, tempo, dll. Sedangkan dataset user berisi 149.860 baris dan 11 kolom tentang riwayat lagu yang didengarkan lengkap dengan informasi seperti ID lagu, judul, durasi mendengarkan, dll.\n",
        "\n",
        "Sumber dataset diperoleh dari website [Kaggle](https://kaggle.com/)\n",
        "- [Dataset track](https://www.kaggle.com/datasets/maharshipandya/-spotify-tracks-dataset)\n",
        "- [Dataset user](https://www.kaggle.com/datasets/sgoutami/spotify-streaming-history)"
      ]
    },
    {
      "cell_type": "code",
      "execution_count": null,
      "metadata": {
        "colab": {
          "base_uri": "https://localhost:8080/"
        },
        "id": "zBj-xKiLpFiM",
        "outputId": "f0803212-18a6-4c30-e2c0-517d60f35b69"
      },
      "outputs": [
        {
          "name": "stdout",
          "output_type": "stream",
          "text": [
            "Mounted at /content/drive\n"
          ]
        }
      ],
      "source": [
        "from google.colab import drive\n",
        "drive.mount('/content/drive')"
      ]
    },
    {
      "cell_type": "code",
      "execution_count": null,
      "metadata": {
        "id": "zjJ4OA2KagQP",
        "outputId": "f9749be5-908e-484a-bd81-3509021f6b6e"
      },
      "outputs": [
        {
          "data": {
            "text/html": [
              "<div>\n",
              "<style scoped>\n",
              "    .dataframe tbody tr th:only-of-type {\n",
              "        vertical-align: middle;\n",
              "    }\n",
              "\n",
              "    .dataframe tbody tr th {\n",
              "        vertical-align: top;\n",
              "    }\n",
              "\n",
              "    .dataframe thead th {\n",
              "        text-align: right;\n",
              "    }\n",
              "</style>\n",
              "<table border=\"1\" class=\"dataframe\">\n",
              "  <thead>\n",
              "    <tr style=\"text-align: right;\">\n",
              "      <th></th>\n",
              "      <th>track_id</th>\n",
              "      <th>artists</th>\n",
              "      <th>album_name</th>\n",
              "      <th>track_name</th>\n",
              "      <th>popularity</th>\n",
              "      <th>duration_ms</th>\n",
              "      <th>explicit</th>\n",
              "      <th>danceability</th>\n",
              "      <th>energy</th>\n",
              "      <th>key</th>\n",
              "      <th>loudness</th>\n",
              "      <th>mode</th>\n",
              "      <th>speechiness</th>\n",
              "      <th>acousticness</th>\n",
              "      <th>instrumentalness</th>\n",
              "      <th>liveness</th>\n",
              "      <th>valence</th>\n",
              "      <th>tempo</th>\n",
              "      <th>time_signature</th>\n",
              "      <th>track_genre</th>\n",
              "    </tr>\n",
              "  </thead>\n",
              "  <tbody>\n",
              "    <tr>\n",
              "      <th>0</th>\n",
              "      <td>5SuOikwiRyPMVoIQDJUgSV</td>\n",
              "      <td>Gen Hoshino</td>\n",
              "      <td>Comedy</td>\n",
              "      <td>Comedy</td>\n",
              "      <td>73</td>\n",
              "      <td>230666</td>\n",
              "      <td>False</td>\n",
              "      <td>0.676</td>\n",
              "      <td>0.4610</td>\n",
              "      <td>1</td>\n",
              "      <td>-6.746</td>\n",
              "      <td>0</td>\n",
              "      <td>0.1430</td>\n",
              "      <td>0.0322</td>\n",
              "      <td>0.000001</td>\n",
              "      <td>0.3580</td>\n",
              "      <td>0.715</td>\n",
              "      <td>87.917</td>\n",
              "      <td>4</td>\n",
              "      <td>acoustic</td>\n",
              "    </tr>\n",
              "    <tr>\n",
              "      <th>1</th>\n",
              "      <td>4qPNDBW1i3p13qLCt0Ki3A</td>\n",
              "      <td>Ben Woodward</td>\n",
              "      <td>Ghost (Acoustic)</td>\n",
              "      <td>Ghost - Acoustic</td>\n",
              "      <td>55</td>\n",
              "      <td>149610</td>\n",
              "      <td>False</td>\n",
              "      <td>0.420</td>\n",
              "      <td>0.1660</td>\n",
              "      <td>1</td>\n",
              "      <td>-17.235</td>\n",
              "      <td>1</td>\n",
              "      <td>0.0763</td>\n",
              "      <td>0.9240</td>\n",
              "      <td>0.000006</td>\n",
              "      <td>0.1010</td>\n",
              "      <td>0.267</td>\n",
              "      <td>77.489</td>\n",
              "      <td>4</td>\n",
              "      <td>acoustic</td>\n",
              "    </tr>\n",
              "    <tr>\n",
              "      <th>2</th>\n",
              "      <td>1iJBSr7s7jYXzM8EGcbK5b</td>\n",
              "      <td>Ingrid Michaelson;ZAYN</td>\n",
              "      <td>To Begin Again</td>\n",
              "      <td>To Begin Again</td>\n",
              "      <td>57</td>\n",
              "      <td>210826</td>\n",
              "      <td>False</td>\n",
              "      <td>0.438</td>\n",
              "      <td>0.3590</td>\n",
              "      <td>0</td>\n",
              "      <td>-9.734</td>\n",
              "      <td>1</td>\n",
              "      <td>0.0557</td>\n",
              "      <td>0.2100</td>\n",
              "      <td>0.000000</td>\n",
              "      <td>0.1170</td>\n",
              "      <td>0.120</td>\n",
              "      <td>76.332</td>\n",
              "      <td>4</td>\n",
              "      <td>acoustic</td>\n",
              "    </tr>\n",
              "    <tr>\n",
              "      <th>3</th>\n",
              "      <td>6lfxq3CG4xtTiEg7opyCyx</td>\n",
              "      <td>Kina Grannis</td>\n",
              "      <td>Crazy Rich Asians (Original Motion Picture Sou...</td>\n",
              "      <td>Can't Help Falling In Love</td>\n",
              "      <td>71</td>\n",
              "      <td>201933</td>\n",
              "      <td>False</td>\n",
              "      <td>0.266</td>\n",
              "      <td>0.0596</td>\n",
              "      <td>0</td>\n",
              "      <td>-18.515</td>\n",
              "      <td>1</td>\n",
              "      <td>0.0363</td>\n",
              "      <td>0.9050</td>\n",
              "      <td>0.000071</td>\n",
              "      <td>0.1320</td>\n",
              "      <td>0.143</td>\n",
              "      <td>181.740</td>\n",
              "      <td>3</td>\n",
              "      <td>acoustic</td>\n",
              "    </tr>\n",
              "    <tr>\n",
              "      <th>4</th>\n",
              "      <td>5vjLSffimiIP26QG5WcN2K</td>\n",
              "      <td>Chord Overstreet</td>\n",
              "      <td>Hold On</td>\n",
              "      <td>Hold On</td>\n",
              "      <td>82</td>\n",
              "      <td>198853</td>\n",
              "      <td>False</td>\n",
              "      <td>0.618</td>\n",
              "      <td>0.4430</td>\n",
              "      <td>2</td>\n",
              "      <td>-9.681</td>\n",
              "      <td>1</td>\n",
              "      <td>0.0526</td>\n",
              "      <td>0.4690</td>\n",
              "      <td>0.000000</td>\n",
              "      <td>0.0829</td>\n",
              "      <td>0.167</td>\n",
              "      <td>119.949</td>\n",
              "      <td>4</td>\n",
              "      <td>acoustic</td>\n",
              "    </tr>\n",
              "  </tbody>\n",
              "</table>\n",
              "</div>"
            ],
            "text/plain": [
              "                 track_id                 artists  \\\n",
              "0  5SuOikwiRyPMVoIQDJUgSV             Gen Hoshino   \n",
              "1  4qPNDBW1i3p13qLCt0Ki3A            Ben Woodward   \n",
              "2  1iJBSr7s7jYXzM8EGcbK5b  Ingrid Michaelson;ZAYN   \n",
              "3  6lfxq3CG4xtTiEg7opyCyx            Kina Grannis   \n",
              "4  5vjLSffimiIP26QG5WcN2K        Chord Overstreet   \n",
              "\n",
              "                                          album_name  \\\n",
              "0                                             Comedy   \n",
              "1                                   Ghost (Acoustic)   \n",
              "2                                     To Begin Again   \n",
              "3  Crazy Rich Asians (Original Motion Picture Sou...   \n",
              "4                                            Hold On   \n",
              "\n",
              "                   track_name  popularity  duration_ms  explicit  \\\n",
              "0                      Comedy          73       230666     False   \n",
              "1            Ghost - Acoustic          55       149610     False   \n",
              "2              To Begin Again          57       210826     False   \n",
              "3  Can't Help Falling In Love          71       201933     False   \n",
              "4                     Hold On          82       198853     False   \n",
              "\n",
              "   danceability  energy  key  loudness  mode  speechiness  acousticness  \\\n",
              "0         0.676  0.4610    1    -6.746     0       0.1430        0.0322   \n",
              "1         0.420  0.1660    1   -17.235     1       0.0763        0.9240   \n",
              "2         0.438  0.3590    0    -9.734     1       0.0557        0.2100   \n",
              "3         0.266  0.0596    0   -18.515     1       0.0363        0.9050   \n",
              "4         0.618  0.4430    2    -9.681     1       0.0526        0.4690   \n",
              "\n",
              "   instrumentalness  liveness  valence    tempo  time_signature track_genre  \n",
              "0          0.000001    0.3580    0.715   87.917               4    acoustic  \n",
              "1          0.000006    0.1010    0.267   77.489               4    acoustic  \n",
              "2          0.000000    0.1170    0.120   76.332               4    acoustic  \n",
              "3          0.000071    0.1320    0.143  181.740               3    acoustic  \n",
              "4          0.000000    0.0829    0.167  119.949               4    acoustic  "
            ]
          },
          "execution_count": 2,
          "metadata": {},
          "output_type": "execute_result"
        }
      ],
      "source": [
        "track = pd.read_csv('/content/drive/My Drive/Dicoding ML Terapan/Kedua/spotify_songs.csv')\n",
        "track.drop('Unnamed: 0', axis=1, inplace=True)\n",
        "track.head()"
      ]
    },
    {
      "cell_type": "code",
      "execution_count": null,
      "metadata": {
        "colab": {
          "base_uri": "https://localhost:8080/"
        },
        "id": "KXFDRKS8qJyQ",
        "outputId": "d1dddde1-2976-4505-a037-705a0d1ee70e"
      },
      "outputs": [
        {
          "name": "stdout",
          "output_type": "stream",
          "text": [
            "<class 'pandas.core.frame.DataFrame'>\n",
            "RangeIndex: 114000 entries, 0 to 113999\n",
            "Data columns (total 20 columns):\n",
            " #   Column            Non-Null Count   Dtype  \n",
            "---  ------            --------------   -----  \n",
            " 0   track_id          114000 non-null  object \n",
            " 1   artists           113999 non-null  object \n",
            " 2   album_name        113999 non-null  object \n",
            " 3   track_name        113999 non-null  object \n",
            " 4   popularity        114000 non-null  int64  \n",
            " 5   duration_ms       114000 non-null  int64  \n",
            " 6   explicit          114000 non-null  bool   \n",
            " 7   danceability      114000 non-null  float64\n",
            " 8   energy            114000 non-null  float64\n",
            " 9   key               114000 non-null  int64  \n",
            " 10  loudness          114000 non-null  float64\n",
            " 11  mode              114000 non-null  int64  \n",
            " 12  speechiness       114000 non-null  float64\n",
            " 13  acousticness      114000 non-null  float64\n",
            " 14  instrumentalness  114000 non-null  float64\n",
            " 15  liveness          114000 non-null  float64\n",
            " 16  valence           114000 non-null  float64\n",
            " 17  tempo             114000 non-null  float64\n",
            " 18  time_signature    114000 non-null  int64  \n",
            " 19  track_genre       114000 non-null  object \n",
            "dtypes: bool(1), float64(9), int64(5), object(5)\n",
            "memory usage: 16.6+ MB\n"
          ]
        }
      ],
      "source": [
        "track.info()"
      ]
    },
    {
      "cell_type": "markdown",
      "metadata": {
        "id": "iIA0HQMgagQR"
      },
      "source": [
        "Penjelasan kolom-kolom dataset track\n",
        "\n",
        "* track_id: ID lagu pada spotify\n",
        "* artists: Artis yang menyanyikan lagu. Jika lebih dari satu dipisahkan dengan \";\"\n",
        "* album_name: Nama album dari lagu\n",
        "* track_name: Judul lagu\n",
        "* popularity : Nilai popularitas lagu dalam skala 0-100\n",
        "* duration_ms: Durasi lagu dalam *milisecond*\n",
        "* explicit: Penanda apakah lagu mengandung lirik eksplisit (kasar)\n",
        "* danceability: Nilai kecocokan lagu digunakan untuk dansa, antara 0 dan 1. Semakin tinggi semakin cocok untuk berdansa\n",
        "* energy: Nilai seberapa intens energi dalam lagu, antara 0 dan 1. Semakin tinggi semakin kuat dan bersemangat\n",
        "* key: Nada dasar lagu, contoh 0=C, 1=C♯/D♭, dst.\n",
        "* loudness: Nilai seberapa keras lagu dalam desibel (dB)\n",
        "* mode: Tangga nada lagu, 1 untuk mayor, 0 untuk minor\n",
        "* speechiness: Nilai seberapa banyak perkataan dalam lagu, antara 0 dan 1. Semakin tinggi menunjukkan banyak perkataan daripada nyanyian dalam lagu\n",
        "* acousticness: Nilai seberapa akustik lagu, antara 0 dan 1\n",
        "* instrumentalness: Nilai seberapa vokal dalam lagu, antara 0 dan 1. Semakin tinggi semakin tidak ada vokal\n",
        "* liveness: Nilai adanya penonton dalam lagu, antara 0 dan 1. Semakin tinggi menunjukkan lagu dimainkan secara langsung (*live*)\n",
        "* valence: Nilai emosi dalam lagu, antara 0 dan 1. Semakin tinggi nilai menunjukkan emosi lagu positif\n",
        "* tempo: Jumlah ketukan (*beat*) lagu dalam *beats per minute* (BPM)\n",
        "* time_signature: Tanda birama lagu\n",
        "* track_genre: Genre lagu"
      ]
    },
    {
      "cell_type": "code",
      "execution_count": null,
      "metadata": {
        "id": "Xaci5BFFagQR",
        "outputId": "e50da238-bc00-455f-d553-49193ba421b3"
      },
      "outputs": [
        {
          "data": {
            "text/html": [
              "<div>\n",
              "<style scoped>\n",
              "    .dataframe tbody tr th:only-of-type {\n",
              "        vertical-align: middle;\n",
              "    }\n",
              "\n",
              "    .dataframe tbody tr th {\n",
              "        vertical-align: top;\n",
              "    }\n",
              "\n",
              "    .dataframe thead th {\n",
              "        text-align: right;\n",
              "    }\n",
              "</style>\n",
              "<table border=\"1\" class=\"dataframe\">\n",
              "  <thead>\n",
              "    <tr style=\"text-align: right;\">\n",
              "      <th></th>\n",
              "      <th>spotify_track_uri</th>\n",
              "      <th>ts</th>\n",
              "      <th>platform</th>\n",
              "      <th>ms_played</th>\n",
              "      <th>track_name</th>\n",
              "      <th>artist_name</th>\n",
              "      <th>album_name</th>\n",
              "      <th>reason_start</th>\n",
              "      <th>reason_end</th>\n",
              "      <th>shuffle</th>\n",
              "      <th>skipped</th>\n",
              "    </tr>\n",
              "  </thead>\n",
              "  <tbody>\n",
              "    <tr>\n",
              "      <th>0</th>\n",
              "      <td>2J3n32GeLmMjwuAzyhcSNe</td>\n",
              "      <td>2013-07-08 02:44:34</td>\n",
              "      <td>web player</td>\n",
              "      <td>3185</td>\n",
              "      <td>Say It, Just Say It</td>\n",
              "      <td>The Mowgli's</td>\n",
              "      <td>Waiting For The Dawn</td>\n",
              "      <td>autoplay</td>\n",
              "      <td>clickrow</td>\n",
              "      <td>False</td>\n",
              "      <td>False</td>\n",
              "    </tr>\n",
              "    <tr>\n",
              "      <th>1</th>\n",
              "      <td>1oHxIPqJyvAYHy0PVrDU98</td>\n",
              "      <td>2013-07-08 02:45:37</td>\n",
              "      <td>web player</td>\n",
              "      <td>61865</td>\n",
              "      <td>Drinking from the Bottle (feat. Tinie Tempah)</td>\n",
              "      <td>Calvin Harris</td>\n",
              "      <td>18 Months</td>\n",
              "      <td>clickrow</td>\n",
              "      <td>clickrow</td>\n",
              "      <td>False</td>\n",
              "      <td>False</td>\n",
              "    </tr>\n",
              "    <tr>\n",
              "      <th>2</th>\n",
              "      <td>487OPlneJNni3NWC8SYqhW</td>\n",
              "      <td>2013-07-08 02:50:24</td>\n",
              "      <td>web player</td>\n",
              "      <td>285386</td>\n",
              "      <td>Born To Die</td>\n",
              "      <td>Lana Del Rey</td>\n",
              "      <td>Born To Die - The Paradise Edition</td>\n",
              "      <td>clickrow</td>\n",
              "      <td>unknown</td>\n",
              "      <td>False</td>\n",
              "      <td>False</td>\n",
              "    </tr>\n",
              "    <tr>\n",
              "      <th>3</th>\n",
              "      <td>5IyblF777jLZj1vGHG2UD3</td>\n",
              "      <td>2013-07-08 02:52:40</td>\n",
              "      <td>web player</td>\n",
              "      <td>134022</td>\n",
              "      <td>Off To The Races</td>\n",
              "      <td>Lana Del Rey</td>\n",
              "      <td>Born To Die - The Paradise Edition</td>\n",
              "      <td>trackdone</td>\n",
              "      <td>clickrow</td>\n",
              "      <td>False</td>\n",
              "      <td>False</td>\n",
              "    </tr>\n",
              "    <tr>\n",
              "      <th>4</th>\n",
              "      <td>0GgAAB0ZMllFhbNc3mAodO</td>\n",
              "      <td>2013-07-08 03:17:52</td>\n",
              "      <td>web player</td>\n",
              "      <td>0</td>\n",
              "      <td>Half Mast</td>\n",
              "      <td>Empire Of The Sun</td>\n",
              "      <td>Walking On A Dream</td>\n",
              "      <td>clickrow</td>\n",
              "      <td>nextbtn</td>\n",
              "      <td>False</td>\n",
              "      <td>False</td>\n",
              "    </tr>\n",
              "  </tbody>\n",
              "</table>\n",
              "</div>"
            ],
            "text/plain": [
              "        spotify_track_uri                   ts    platform  ms_played  \\\n",
              "0  2J3n32GeLmMjwuAzyhcSNe  2013-07-08 02:44:34  web player       3185   \n",
              "1  1oHxIPqJyvAYHy0PVrDU98  2013-07-08 02:45:37  web player      61865   \n",
              "2  487OPlneJNni3NWC8SYqhW  2013-07-08 02:50:24  web player     285386   \n",
              "3  5IyblF777jLZj1vGHG2UD3  2013-07-08 02:52:40  web player     134022   \n",
              "4  0GgAAB0ZMllFhbNc3mAodO  2013-07-08 03:17:52  web player          0   \n",
              "\n",
              "                                      track_name        artist_name  \\\n",
              "0                            Say It, Just Say It       The Mowgli's   \n",
              "1  Drinking from the Bottle (feat. Tinie Tempah)      Calvin Harris   \n",
              "2                                    Born To Die       Lana Del Rey   \n",
              "3                               Off To The Races       Lana Del Rey   \n",
              "4                                      Half Mast  Empire Of The Sun   \n",
              "\n",
              "                           album_name reason_start reason_end  shuffle  \\\n",
              "0                Waiting For The Dawn     autoplay   clickrow    False   \n",
              "1                           18 Months     clickrow   clickrow    False   \n",
              "2  Born To Die - The Paradise Edition     clickrow    unknown    False   \n",
              "3  Born To Die - The Paradise Edition    trackdone   clickrow    False   \n",
              "4                  Walking On A Dream     clickrow    nextbtn    False   \n",
              "\n",
              "   skipped  \n",
              "0    False  \n",
              "1    False  \n",
              "2    False  \n",
              "3    False  \n",
              "4    False  "
            ]
          },
          "execution_count": 4,
          "metadata": {},
          "output_type": "execute_result"
        }
      ],
      "source": [
        "user = pd.read_csv('/content/drive/My Drive/Dicoding ML Terapan/Kedua/spotify_history.csv')\n",
        "user.head()"
      ]
    },
    {
      "cell_type": "code",
      "execution_count": null,
      "metadata": {
        "id": "fK9RV7sEagQS",
        "outputId": "493a5c17-a038-4898-ac00-64986a05922a"
      },
      "outputs": [
        {
          "name": "stdout",
          "output_type": "stream",
          "text": [
            "<class 'pandas.core.frame.DataFrame'>\n",
            "RangeIndex: 149860 entries, 0 to 149859\n",
            "Data columns (total 11 columns):\n",
            " #   Column             Non-Null Count   Dtype \n",
            "---  ------             --------------   ----- \n",
            " 0   spotify_track_uri  149860 non-null  object\n",
            " 1   ts                 149860 non-null  object\n",
            " 2   platform           149860 non-null  object\n",
            " 3   ms_played          149860 non-null  int64 \n",
            " 4   track_name         149860 non-null  object\n",
            " 5   artist_name        149860 non-null  object\n",
            " 6   album_name         149860 non-null  object\n",
            " 7   reason_start       149717 non-null  object\n",
            " 8   reason_end         149743 non-null  object\n",
            " 9   shuffle            149860 non-null  bool  \n",
            " 10  skipped            149860 non-null  bool  \n",
            "dtypes: bool(2), int64(1), object(8)\n",
            "memory usage: 10.6+ MB\n"
          ]
        }
      ],
      "source": [
        "user.info()"
      ]
    },
    {
      "cell_type": "markdown",
      "metadata": {
        "id": "MF8l4jtNagQT"
      },
      "source": [
        "Penjelasan kolom-kolom dataset user\n",
        "\n",
        "* spotify_track_uri: ID lagu pada spotify\n",
        "* track_name: Judul lagu\n",
        "* artist_name: Artis yang menyanyikan lagu\n",
        "* album_name: Nama album dari lagu\n",
        "* ts: Waktu ketika lagu selesai diputar, dalam format yyyy-MM-dd HH:mm:ss\n",
        "* platform: Platfrom yang digunakan untuk mendengarkan lagu\n",
        "* ms_played: Durasi putar lagu dalam *milisecond*\n",
        "* reason_start: Alasan mulai memutar lagu\n",
        "* shuffle: Penanda apakah lagu diputar dalam mode acak\n",
        "* skipped: Penanda apakah lagu dilewati (*skip*) oleh pengguna"
      ]
    },
    {
      "cell_type": "markdown",
      "metadata": {
        "id": "rU--3SDKpWwO"
      },
      "source": [
        "**Missing value**\n",
        "\n",
        "Memeriksa jumlah data kosong pada kedua dataset. Data-data kosong ini akan dihilangkan."
      ]
    },
    {
      "cell_type": "code",
      "execution_count": null,
      "metadata": {
        "colab": {
          "base_uri": "https://localhost:8080/",
          "height": 178
        },
        "id": "Gk0daNRXqTF1",
        "outputId": "50bdf87e-bf76-423e-cb47-1d1ff74df0fa"
      },
      "outputs": [
        {
          "data": {
            "text/plain": [
              "artists       1\n",
              "album_name    1\n",
              "track_name    1\n",
              "dtype: int64"
            ]
          },
          "execution_count": 6,
          "metadata": {},
          "output_type": "execute_result"
        }
      ],
      "source": [
        "track_null = track.isnull().sum()\n",
        "track_null[track_null > 0]"
      ]
    },
    {
      "cell_type": "code",
      "execution_count": null,
      "metadata": {
        "id": "QoKlev5BagQV",
        "outputId": "ba64d74f-ec4d-447a-c6e8-00c73b5fa23b"
      },
      "outputs": [
        {
          "data": {
            "text/plain": [
              "reason_start    143\n",
              "reason_end      117\n",
              "dtype: int64"
            ]
          },
          "execution_count": 7,
          "metadata": {},
          "output_type": "execute_result"
        }
      ],
      "source": [
        "user_null = user.isnull().sum()\n",
        "user_null[user_null > 0]"
      ]
    },
    {
      "cell_type": "markdown",
      "metadata": {
        "id": "1xcJ76qzpWwS"
      },
      "source": [
        "**Duplicate Value**\n",
        "\n",
        "Pemeriksaan berapa banyak data duplikat pada kedua dataset. Data duplikat ini juga akan dihilangkan dari dataset"
      ]
    },
    {
      "cell_type": "code",
      "execution_count": null,
      "metadata": {
        "id": "K_vEB9DTagQW",
        "outputId": "2a8b339f-9dcf-4731-c075-b964d78e261b"
      },
      "outputs": [
        {
          "name": "stdout",
          "output_type": "stream",
          "text": [
            "450 data duplikat pada track\n",
            "1185 data duplikat pada user\n"
          ]
        }
      ],
      "source": [
        "print(f'{track.duplicated().sum()} data duplikat pada track')\n",
        "print(f'{user.duplicated().sum()} data duplikat pada user')"
      ]
    },
    {
      "cell_type": "markdown",
      "metadata": {
        "id": "KucM1j0UpWwT"
      },
      "source": [
        "Proses menghapus data kosong dan duplikat pada dataset track dan user. Tersisa 113.549 baris pada datset track dan 148.463 baris pada dataset user."
      ]
    },
    {
      "cell_type": "code",
      "execution_count": null,
      "metadata": {
        "id": "AGgOE72magQW",
        "outputId": "559e7a65-c6fb-4434-ca39-d4d32b2d93de"
      },
      "outputs": [
        {
          "name": "stdout",
          "output_type": "stream",
          "text": [
            "Track shape: (113549, 20), User shape: (148463, 11)\n"
          ]
        }
      ],
      "source": [
        "track.dropna(inplace=True)\n",
        "track.drop_duplicates(inplace=True)\n",
        "user.dropna(inplace=True)\n",
        "user.drop_duplicates(inplace=True)\n",
        "print(f'Track shape: {track.shape}, User shape: {user.shape}')"
      ]
    },
    {
      "cell_type": "markdown",
      "metadata": {
        "id": "1r0xrtjlpWwT"
      },
      "source": [
        "Memeriksa baris track dengan 'track_id' yang sama. Terdapat beberapa lagu yang memiliki ID duplikat."
      ]
    },
    {
      "cell_type": "code",
      "execution_count": null,
      "metadata": {
        "id": "zjUjUOZ1agQX",
        "outputId": "5a9f6783-e831-4a64-c599-054bb38fb7c7"
      },
      "outputs": [
        {
          "data": {
            "text/plain": [
              "40108"
            ]
          },
          "execution_count": 10,
          "metadata": {},
          "output_type": "execute_result"
        }
      ],
      "source": [
        "dup_id = track.duplicated(subset=['track_id'], keep=False)\n",
        "dup_id.sum()"
      ]
    },
    {
      "cell_type": "markdown",
      "metadata": {
        "id": "TFgQpqjDpWwV"
      },
      "source": [
        "Memeriksa salah satu lagu dengan ID  '5SuOikwiRyPMVoIQDJUgSV'. Ternyata dalam satu lagu bisa memiliki banyak genre"
      ]
    },
    {
      "cell_type": "code",
      "execution_count": null,
      "metadata": {
        "colab": {
          "base_uri": "https://localhost:8080/",
          "height": 348
        },
        "id": "KuIM5BFt1Es9",
        "outputId": "d787a98e-b88e-4c93-c72f-21db8fe33b88"
      },
      "outputs": [
        {
          "data": {
            "text/html": [
              "<div>\n",
              "<style scoped>\n",
              "    .dataframe tbody tr th:only-of-type {\n",
              "        vertical-align: middle;\n",
              "    }\n",
              "\n",
              "    .dataframe tbody tr th {\n",
              "        vertical-align: top;\n",
              "    }\n",
              "\n",
              "    .dataframe thead th {\n",
              "        text-align: right;\n",
              "    }\n",
              "</style>\n",
              "<table border=\"1\" class=\"dataframe\">\n",
              "  <thead>\n",
              "    <tr style=\"text-align: right;\">\n",
              "      <th></th>\n",
              "      <th>track_id</th>\n",
              "      <th>artists</th>\n",
              "      <th>track_name</th>\n",
              "      <th>track_genre</th>\n",
              "    </tr>\n",
              "  </thead>\n",
              "  <tbody>\n",
              "    <tr>\n",
              "      <th>0</th>\n",
              "      <td>5SuOikwiRyPMVoIQDJUgSV</td>\n",
              "      <td>Gen Hoshino</td>\n",
              "      <td>Comedy</td>\n",
              "      <td>acoustic</td>\n",
              "    </tr>\n",
              "    <tr>\n",
              "      <th>62102</th>\n",
              "      <td>5SuOikwiRyPMVoIQDJUgSV</td>\n",
              "      <td>Gen Hoshino</td>\n",
              "      <td>Comedy</td>\n",
              "      <td>j-pop</td>\n",
              "    </tr>\n",
              "    <tr>\n",
              "      <th>99152</th>\n",
              "      <td>5SuOikwiRyPMVoIQDJUgSV</td>\n",
              "      <td>Gen Hoshino</td>\n",
              "      <td>Comedy</td>\n",
              "      <td>singer-songwriter</td>\n",
              "    </tr>\n",
              "    <tr>\n",
              "      <th>102151</th>\n",
              "      <td>5SuOikwiRyPMVoIQDJUgSV</td>\n",
              "      <td>Gen Hoshino</td>\n",
              "      <td>Comedy</td>\n",
              "      <td>songwriter</td>\n",
              "    </tr>\n",
              "  </tbody>\n",
              "</table>\n",
              "</div>"
            ],
            "text/plain": [
              "                      track_id      artists track_name        track_genre\n",
              "0       5SuOikwiRyPMVoIQDJUgSV  Gen Hoshino     Comedy           acoustic\n",
              "62102   5SuOikwiRyPMVoIQDJUgSV  Gen Hoshino     Comedy              j-pop\n",
              "99152   5SuOikwiRyPMVoIQDJUgSV  Gen Hoshino     Comedy  singer-songwriter\n",
              "102151  5SuOikwiRyPMVoIQDJUgSV  Gen Hoshino     Comedy         songwriter"
            ]
          },
          "execution_count": 11,
          "metadata": {},
          "output_type": "execute_result"
        }
      ],
      "source": [
        "idx_dup_id = dup_id[dup_id == True].index\n",
        "df_dup = track.loc[idx_dup_id]\n",
        "df_dup = df_dup[df_dup['track_id'] == '5SuOikwiRyPMVoIQDJUgSV']\n",
        "df_dup[['track_id', 'artists', 'track_name', 'track_genre']]"
      ]
    },
    {
      "cell_type": "markdown",
      "metadata": {
        "id": "ZvonVTmApWwW"
      },
      "source": [
        "Memeriksa jumlah data lagu pada dataset track dengan duplikasi pada beberapa kolom untuk mendeteksi lagu yang identik."
      ]
    },
    {
      "cell_type": "code",
      "execution_count": null,
      "metadata": {
        "id": "rxec9wIQagQY",
        "outputId": "1e2c74bf-9c34-4da2-f8b9-2b888007ffd8"
      },
      "outputs": [
        {
          "data": {
            "text/plain": [
              "45132"
            ]
          },
          "execution_count": 12,
          "metadata": {},
          "output_type": "execute_result"
        }
      ],
      "source": [
        "dup_track = track.duplicated(subset=['artists', 'track_name', 'duration_ms', 'explicit', 'danceability', 'energy', 'key', 'loudness', 'mode', 'speechiness', 'acousticness', 'instrumentalness', 'liveness', 'valence', 'tempo', 'time_signature'], keep=False)\n",
        "dup_track.sum()"
      ]
    },
    {
      "cell_type": "markdown",
      "metadata": {
        "id": "ihPA6GggpWwe"
      },
      "source": [
        "Contoh pemeriksaan terhadap data lagu berjudul \"I'm Yours\". Terlihat bahwa data lagu dengan judul dan artis yang sama juga terduplikat dan memiliki ID yang berbeda."
      ]
    },
    {
      "cell_type": "code",
      "execution_count": null,
      "metadata": {
        "id": "92llLBWLagQY",
        "outputId": "fa90b10f-42ac-42ac-a8ff-628c2e52b9e3"
      },
      "outputs": [
        {
          "data": {
            "text/html": [
              "<div>\n",
              "<style scoped>\n",
              "    .dataframe tbody tr th:only-of-type {\n",
              "        vertical-align: middle;\n",
              "    }\n",
              "\n",
              "    .dataframe tbody tr th {\n",
              "        vertical-align: top;\n",
              "    }\n",
              "\n",
              "    .dataframe thead th {\n",
              "        text-align: right;\n",
              "    }\n",
              "</style>\n",
              "<table border=\"1\" class=\"dataframe\">\n",
              "  <thead>\n",
              "    <tr style=\"text-align: right;\">\n",
              "      <th></th>\n",
              "      <th>track_id</th>\n",
              "      <th>artists</th>\n",
              "      <th>track_name</th>\n",
              "      <th>track_genre</th>\n",
              "    </tr>\n",
              "  </thead>\n",
              "  <tbody>\n",
              "    <tr>\n",
              "      <th>7</th>\n",
              "      <td>1EzrEOXmMH3G43AXT1y7pA</td>\n",
              "      <td>Jason Mraz</td>\n",
              "      <td>I'm Yours</td>\n",
              "      <td>acoustic</td>\n",
              "    </tr>\n",
              "    <tr>\n",
              "      <th>20</th>\n",
              "      <td>3S0OXQeoh0w6AY8WQVckRW</td>\n",
              "      <td>Jason Mraz</td>\n",
              "      <td>I'm Yours</td>\n",
              "      <td>acoustic</td>\n",
              "    </tr>\n",
              "    <tr>\n",
              "      <th>91904</th>\n",
              "      <td>1EzrEOXmMH3G43AXT1y7pA</td>\n",
              "      <td>Jason Mraz</td>\n",
              "      <td>I'm Yours</td>\n",
              "      <td>rock</td>\n",
              "    </tr>\n",
              "  </tbody>\n",
              "</table>\n",
              "</div>"
            ],
            "text/plain": [
              "                     track_id     artists track_name track_genre\n",
              "7      1EzrEOXmMH3G43AXT1y7pA  Jason Mraz  I'm Yours    acoustic\n",
              "20     3S0OXQeoh0w6AY8WQVckRW  Jason Mraz  I'm Yours    acoustic\n",
              "91904  1EzrEOXmMH3G43AXT1y7pA  Jason Mraz  I'm Yours        rock"
            ]
          },
          "execution_count": 13,
          "metadata": {},
          "output_type": "execute_result"
        }
      ],
      "source": [
        "idx_dup_id = dup_track[dup_track == True].index\n",
        "df_dup = track.loc[idx_dup_id]\n",
        "df_dup = df_dup[df_dup['track_name'] == \"I'm Yours\"]\n",
        "df_dup[['track_id', 'artists', 'track_name', 'track_genre']]"
      ]
    },
    {
      "cell_type": "markdown",
      "metadata": {
        "id": "w9qSHvFKpWwf"
      },
      "source": [
        "Menghilangkan data lagu yang identik berdasarkan kolom-kolom yang ditentukan. Proses ini menyisakan 83.908 baris pada dataset track."
      ]
    },
    {
      "cell_type": "code",
      "execution_count": null,
      "metadata": {
        "id": "0S4turoAagQZ",
        "outputId": "792741ff-9f87-47c5-8cbf-cb7816d8b9f0"
      },
      "outputs": [
        {
          "data": {
            "text/plain": [
              "(83908, 20)"
            ]
          },
          "execution_count": 14,
          "metadata": {},
          "output_type": "execute_result"
        }
      ],
      "source": [
        "track_uniq = track.drop_duplicates(subset=['artists', 'track_name', 'duration_ms', 'explicit', 'danceability', 'energy', 'key', 'loudness', 'mode', 'speechiness', 'acousticness', 'instrumentalness', 'liveness', 'valence', 'tempo', 'time_signature'])\n",
        "track_uniq.shape"
      ]
    },
    {
      "cell_type": "markdown",
      "metadata": {
        "id": "6R4hqmnWpWwg"
      },
      "source": [
        "# **Exploratory Data Analysis**"
      ]
    },
    {
      "cell_type": "markdown",
      "metadata": {
        "id": "8YvrC4vgpWwg"
      },
      "source": [
        "Memilih sebagian baris saja dari dataset. Untuk dataset track hanya menggunakan lagu dengan nilai 'popularity' di atas 60. Sedangkan dataset user disaring hanya untuk ID lagu yang terdapat pada dataset track yang sudah disaring.\n",
        "\n",
        "Proses ini menyisakan 9.488 baris pada dataset track dan 22.413 baris pada dataset user."
      ]
    },
    {
      "cell_type": "code",
      "execution_count": null,
      "metadata": {
        "id": "owR6Ko8IagQZ",
        "outputId": "dace58d3-d536-4c04-b04d-e242d3d71e21"
      },
      "outputs": [
        {
          "data": {
            "text/plain": [
              "(9488, 20)"
            ]
          },
          "execution_count": 15,
          "metadata": {},
          "output_type": "execute_result"
        }
      ],
      "source": [
        "track_uniq = track_uniq[track_uniq['popularity'] >= 60]\n",
        "track_uniq.shape"
      ]
    },
    {
      "cell_type": "code",
      "execution_count": null,
      "metadata": {
        "id": "x2o9lOuJagQb",
        "outputId": "e54cd597-5c78-4d1f-b106-39c2f529d318"
      },
      "outputs": [
        {
          "data": {
            "text/plain": [
              "(22413, 11)"
            ]
          },
          "execution_count": 20,
          "metadata": {},
          "output_type": "execute_result"
        }
      ],
      "source": [
        "user_isin = user[user['spotify_track_uri'].isin(track_uniq['track_id'].values)]\n",
        "user_isin = user_isin.rename(columns={'spotify_track_uri': 'track_id'})\n",
        "user_isin.shape"
      ]
    },
    {
      "cell_type": "markdown",
      "source": [
        "Pemetaan genre dengan jumlah lagu terbanyak pada dataset track menggunakan Wordcloud dan diagram batang. Genre k-pop, pop-film dan hip-hop menjadi yang paling banyak."
      ],
      "metadata": {
        "id": "svcSudzwpsy7"
      }
    },
    {
      "cell_type": "code",
      "execution_count": null,
      "metadata": {
        "id": "HTVw53okagQa",
        "outputId": "225c3141-acdf-4c13-d13d-8fca165ce424"
      },
      "outputs": [
        {
          "data": {
            "text/plain": [
              "Index(['k-pop', 'pop-film', 'hip-hop', 'chill', 'alt-rock', 'edm', 'dance',\n",
              "       'hard-rock', 'british', 'electro',\n",
              "       ...\n",
              "       'party', 'minimal-techno', 'ska', 'chicago-house', 'forro', 'mpb',\n",
              "       'guitar', 'j-idol', 'samba', 'kids'],\n",
              "      dtype='object', name='track_genre', length=102)"
            ]
          },
          "execution_count": 17,
          "metadata": {},
          "output_type": "execute_result"
        }
      ],
      "source": [
        "genres = track_uniq['track_genre'].value_counts()\n",
        "genres.index"
      ]
    },
    {
      "cell_type": "code",
      "execution_count": null,
      "metadata": {
        "id": "nmA6ogCGagQa",
        "outputId": "446d2399-5896-456c-8c58-f6aec50cdf78"
      },
      "outputs": [
        {
          "data": {
            "image/png": "[encoded data removed]",
            "text/plain": [
              "<Figure size 640x480 with 1 Axes>"
            ]
          },
          "metadata": {},
          "output_type": "display_data"
        }
      ],
      "source": [
        "cloud = WordCloud(\n",
        "    width=640,\n",
        "    height=640,\n",
        "    background_color='white',\n",
        "    min_font_size=10\n",
        ").generate_from_frequencies(genres.to_dict())\n",
        "plt.imshow(cloud, interpolation = 'nearest')\n",
        "plt.axis('off')\n",
        "plt.show()"
      ]
    },
    {
      "cell_type": "code",
      "execution_count": null,
      "metadata": {
        "id": "P_5Jcz8xagQb",
        "outputId": "ab2b8cdf-505f-49b1-fbd9-22cff0f3579a"
      },
      "outputs": [
        {
          "data": {
            "text/plain": [
              "<Axes: ylabel='track_genre'>"
            ]
          },
          "execution_count": 19,
          "metadata": {},
          "output_type": "execute_result"
        },
        {
          "data": {
            "image/png": "[encoded data removed]",
            "text/plain": [
              "<Figure size 800x600 with 1 Axes>"
            ]
          },
          "metadata": {},
          "output_type": "display_data"
        }
      ],
      "source": [
        "genres[:10].plot(kind='barh', figsize=(8,6))"
      ]
    },
    {
      "cell_type": "markdown",
      "source": [
        "Analisis diagram batang genre yang paling sering didengarkan berdasarkan dataset user. Genre british cukup dominan dibanding genre lain."
      ],
      "metadata": {
        "id": "HpwByJLpp2s1"
      }
    },
    {
      "cell_type": "code",
      "execution_count": null,
      "metadata": {
        "id": "jHzQB31BagQc",
        "outputId": "7fd772c1-8afd-419e-8a76-08627f401f42"
      },
      "outputs": [
        {
          "data": {
            "image/png": "[encoded data removed]",
            "text/plain": [
              "<Figure size 800x600 with 1 Axes>"
            ]
          },
          "metadata": {},
          "output_type": "display_data"
        }
      ],
      "source": [
        "track_merged = track_uniq.groupby('track_id')['track_genre'].agg(list).reset_index()\n",
        "user_genres = pd.merge(user_isin, track_merged, on='track_id', how='left')\n",
        "genres = Counter()\n",
        "for i, row in user_genres.iterrows():\n",
        "    for j in row['track_genre']:\n",
        "        genres[j] += row['ms_played'] / (1e3 * 60 * 60)\n",
        "\n",
        "user_genres_dur = pd.DataFrame.from_dict(genres, orient='index').reset_index()\n",
        "user_genres_dur = user_genres_dur.rename(columns = {'index': 'genre', 0: 'ms_played'})\n",
        "user_genres_dur.set_index('genre', inplace=True)\n",
        "user_genres_dur = user_genres_dur.sort_values('ms_played', ascending=False)\n",
        "user_genres_dur[:10].plot(kind='barh', figsize=(8,6))\n",
        "plt.ylabel('Genre')\n",
        "plt.xlabel('Durasi (jam)')\n",
        "plt.legend().remove()\n",
        "plt.show()"
      ]
    },
    {
      "cell_type": "markdown",
      "source": [
        "Analisis ditribusi data pada dataset track menggunakan histogram.\n",
        "\n",
        "- Semakin tinggi popularitas, semakin sedikit jumlah lagu\n",
        "- Dataset didominasi oleh lagu penuh nyanyian (speechiness rendah), bukan instrumental (instrumental rendah), bukan lagu akustik (acousticness rendah), serta tidak ditampilkan secara *live* (liveness rendah)\n",
        "- Hampir seluruh lagu memiliki tanda birama 4/4 yang umum digunakan pada lagu pop. Hal ini bisa terjadi karena dataset track telah disaring menjadi hanya lagu-lagu populer\n",
        "- Distribusi key hampir merata, dengan pengecualian nada dasar D# yang lebih kecil dari nada dasar lain\n",
        "- Durasi lagu, valence, danceability, dinamika, serta tempo terdistribusi normal"
      ],
      "metadata": {
        "id": "j1kkTBcCp-Zr"
      }
    },
    {
      "cell_type": "code",
      "execution_count": null,
      "metadata": {
        "id": "orKbjGEUagQa",
        "outputId": "65906d64-c4d7-40f1-8f00-9689abc52c2a"
      },
      "outputs": [
        {
          "data": {
            "image/png": "[encoded data removed]",
            "text/plain": [
              "<Figure size 2000x1500 with 16 Axes>"
            ]
          },
          "metadata": {},
          "output_type": "display_data"
        }
      ],
      "source": [
        "track_uniq.hist(bins=50, figsize=(20,15))\n",
        "plt.show()"
      ]
    },
    {
      "cell_type": "markdown",
      "metadata": {
        "id": "Nw-908U5bOlN"
      },
      "source": [
        "# **Data Preparation**"
      ]
    },
    {
      "cell_type": "markdown",
      "source": [
        "**Formatting**\n",
        "\n",
        "Menggabungkan data beberapa genre dalam satu lagu menjadi satu string"
      ],
      "metadata": {
        "id": "jLs9TW58qN2T"
      }
    },
    {
      "cell_type": "code",
      "execution_count": null,
      "metadata": {
        "id": "xHUUr6IyagQc"
      },
      "outputs": [],
      "source": [
        "track_merged = track.groupby('track_id')['track_genre'].agg(list).reset_index()\n",
        "track_prep = track_uniq.drop('track_genre', axis=1)\n",
        "track_prep = track_prep.merge(track_merged, on='track_id')\n",
        "track_prep['track_genre'] = track_prep['track_genre'].apply(lambda x:' '.join(x))\n",
        "track_prep['track_genre'] = [re.sub(r'-', '', t) for t in track_prep['track_genre']]"
      ]
    },
    {
      "cell_type": "markdown",
      "source": [
        "**Feature Engineering**"
      ],
      "metadata": {
        "id": "4C7ln8TdquRf"
      }
    },
    {
      "cell_type": "markdown",
      "source": [
        "Membangun kolom 'content' untuk dataset track dari kolom 'speechiness', 'instrumentalness', 'tempo', 'mode', 'loudness', dan 'explicit'."
      ],
      "metadata": {
        "id": "mSlzXBG7ra-C"
      }
    },
    {
      "cell_type": "code",
      "execution_count": null,
      "metadata": {
        "id": "CFFMvAGvagQc"
      },
      "outputs": [],
      "source": [
        "def get_speech_content(row):\n",
        "    speech = row['speechiness']\n",
        "    return 'speech' if speech > 0.66 else 'music'\n",
        "\n",
        "def get_instrumental_content(row):\n",
        "    mode = row['instrumentalness']\n",
        "    return 'instrumental' if mode > 0.85 else 'vocal'\n",
        "\n",
        "def get_explicit_content(row):\n",
        "    return 'explicit' if row['explicit'] else 'clean'\n",
        "\n",
        "def get_mode_content(row):\n",
        "    mode = row['mode']\n",
        "    return 'major' if mode == 1 else 'minor'\n",
        "\n",
        "def get_loudness_content(row):\n",
        "    loudness = row['loudness']\n",
        "\n",
        "    if loudness > -7:\n",
        "        return 'stentorian'\n",
        "    elif loudness > -11:\n",
        "        return 'loud'\n",
        "    elif loudness > -14:\n",
        "        return 'normal'\n",
        "    else:\n",
        "        return 'quiet'\n",
        "\n",
        "def get_tempo_content(row):\n",
        "    tempo = row['tempo']\n",
        "\n",
        "    if tempo < 40:\n",
        "        return 'grave'\n",
        "    elif tempo < 45:\n",
        "        return 'lento'\n",
        "    elif tempo < 55:\n",
        "        return 'largo'\n",
        "    elif tempo < 65:\n",
        "        return 'adagio'\n",
        "    elif tempo < 69:\n",
        "        return 'adagietto'\n",
        "    elif tempo < 77:\n",
        "        return 'andante'\n",
        "    elif tempo < 98:\n",
        "        return 'moderato'\n",
        "    elif tempo < 109:\n",
        "        return 'allegretto'\n",
        "    elif tempo < 132:\n",
        "        return 'allegro'\n",
        "    elif tempo < 140:\n",
        "        return 'vivace'\n",
        "    elif tempo < 177:\n",
        "        return 'presto'\n",
        "    else:\n",
        "        return 'prestissimo'"
      ]
    },
    {
      "cell_type": "code",
      "execution_count": null,
      "metadata": {
        "id": "YqAhf2uGagQc"
      },
      "outputs": [],
      "source": [
        "track_prep['content'] = track_prep.apply(get_speech_content, axis=1)\n",
        "track_prep['content'] = track_prep['content'] + ' ' + track_prep.apply(get_instrumental_content, axis=1)\n",
        "track_prep['content'] = track_prep['content'] + ' ' + track_prep.apply(get_tempo_content, axis=1)\n",
        "track_prep['content'] = track_prep['content'] + ' ' + track_prep.apply(get_mode_content, axis=1)\n",
        "track_prep['content'] = track_prep['content'] + ' ' + track_prep.apply(get_loudness_content, axis=1)\n",
        "track_prep['content'] = track_prep['content'] + ' ' + track_prep.apply(get_explicit_content, axis=1)\n",
        "track_prep['content'] = track_prep['content'] + ' ' + track_prep['track_genre']"
      ]
    },
    {
      "cell_type": "code",
      "execution_count": null,
      "metadata": {
        "id": "6GTGdXN_agQd",
        "outputId": "c39bf90f-372f-40ec-97a5-85bd92ef10c8"
      },
      "outputs": [
        {
          "data": {
            "text/html": [
              "<div>\n",
              "<style scoped>\n",
              "    .dataframe tbody tr th:only-of-type {\n",
              "        vertical-align: middle;\n",
              "    }\n",
              "\n",
              "    .dataframe tbody tr th {\n",
              "        vertical-align: top;\n",
              "    }\n",
              "\n",
              "    .dataframe thead th {\n",
              "        text-align: right;\n",
              "    }\n",
              "</style>\n",
              "<table border=\"1\" class=\"dataframe\">\n",
              "  <thead>\n",
              "    <tr style=\"text-align: right;\">\n",
              "      <th></th>\n",
              "      <th>track_id</th>\n",
              "      <th>artists</th>\n",
              "      <th>album_name</th>\n",
              "      <th>track_name</th>\n",
              "      <th>popularity</th>\n",
              "      <th>duration_ms</th>\n",
              "      <th>explicit</th>\n",
              "      <th>danceability</th>\n",
              "      <th>energy</th>\n",
              "      <th>key</th>\n",
              "      <th>...</th>\n",
              "      <th>mode</th>\n",
              "      <th>speechiness</th>\n",
              "      <th>acousticness</th>\n",
              "      <th>instrumentalness</th>\n",
              "      <th>liveness</th>\n",
              "      <th>valence</th>\n",
              "      <th>tempo</th>\n",
              "      <th>time_signature</th>\n",
              "      <th>track_genre</th>\n",
              "      <th>content</th>\n",
              "    </tr>\n",
              "  </thead>\n",
              "  <tbody>\n",
              "    <tr>\n",
              "      <th>0</th>\n",
              "      <td>5SuOikwiRyPMVoIQDJUgSV</td>\n",
              "      <td>Gen Hoshino</td>\n",
              "      <td>Comedy</td>\n",
              "      <td>Comedy</td>\n",
              "      <td>73</td>\n",
              "      <td>230666</td>\n",
              "      <td>False</td>\n",
              "      <td>0.676</td>\n",
              "      <td>0.4610</td>\n",
              "      <td>1</td>\n",
              "      <td>...</td>\n",
              "      <td>0</td>\n",
              "      <td>0.1430</td>\n",
              "      <td>0.0322</td>\n",
              "      <td>0.000001</td>\n",
              "      <td>0.3580</td>\n",
              "      <td>0.7150</td>\n",
              "      <td>87.917</td>\n",
              "      <td>4</td>\n",
              "      <td>acoustic jpop singersongwriter songwriter</td>\n",
              "      <td>music vocal moderato minor stentorian clean ac...</td>\n",
              "    </tr>\n",
              "    <tr>\n",
              "      <th>1</th>\n",
              "      <td>6lfxq3CG4xtTiEg7opyCyx</td>\n",
              "      <td>Kina Grannis</td>\n",
              "      <td>Crazy Rich Asians (Original Motion Picture Sou...</td>\n",
              "      <td>Can't Help Falling In Love</td>\n",
              "      <td>71</td>\n",
              "      <td>201933</td>\n",
              "      <td>False</td>\n",
              "      <td>0.266</td>\n",
              "      <td>0.0596</td>\n",
              "      <td>0</td>\n",
              "      <td>...</td>\n",
              "      <td>1</td>\n",
              "      <td>0.0363</td>\n",
              "      <td>0.9050</td>\n",
              "      <td>0.000071</td>\n",
              "      <td>0.1320</td>\n",
              "      <td>0.1430</td>\n",
              "      <td>181.740</td>\n",
              "      <td>3</td>\n",
              "      <td>acoustic</td>\n",
              "      <td>music vocal prestissimo major quiet clean acou...</td>\n",
              "    </tr>\n",
              "    <tr>\n",
              "      <th>2</th>\n",
              "      <td>5vjLSffimiIP26QG5WcN2K</td>\n",
              "      <td>Chord Overstreet</td>\n",
              "      <td>Hold On</td>\n",
              "      <td>Hold On</td>\n",
              "      <td>82</td>\n",
              "      <td>198853</td>\n",
              "      <td>False</td>\n",
              "      <td>0.618</td>\n",
              "      <td>0.4430</td>\n",
              "      <td>2</td>\n",
              "      <td>...</td>\n",
              "      <td>1</td>\n",
              "      <td>0.0526</td>\n",
              "      <td>0.4690</td>\n",
              "      <td>0.000000</td>\n",
              "      <td>0.0829</td>\n",
              "      <td>0.1670</td>\n",
              "      <td>119.949</td>\n",
              "      <td>4</td>\n",
              "      <td>acoustic</td>\n",
              "      <td>music vocal allegro major loud clean acoustic</td>\n",
              "    </tr>\n",
              "    <tr>\n",
              "      <th>3</th>\n",
              "      <td>6Vc5wAMmXdKIAM7WUoEb7N</td>\n",
              "      <td>A Great Big World;Christina Aguilera</td>\n",
              "      <td>Is There Anybody Out There?</td>\n",
              "      <td>Say Something</td>\n",
              "      <td>74</td>\n",
              "      <td>229400</td>\n",
              "      <td>False</td>\n",
              "      <td>0.407</td>\n",
              "      <td>0.1470</td>\n",
              "      <td>2</td>\n",
              "      <td>...</td>\n",
              "      <td>1</td>\n",
              "      <td>0.0355</td>\n",
              "      <td>0.8570</td>\n",
              "      <td>0.000003</td>\n",
              "      <td>0.0913</td>\n",
              "      <td>0.0765</td>\n",
              "      <td>141.284</td>\n",
              "      <td>3</td>\n",
              "      <td>acoustic piano</td>\n",
              "      <td>music vocal presto major loud clean acoustic p...</td>\n",
              "    </tr>\n",
              "    <tr>\n",
              "      <th>4</th>\n",
              "      <td>1EzrEOXmMH3G43AXT1y7pA</td>\n",
              "      <td>Jason Mraz</td>\n",
              "      <td>We Sing. We Dance. We Steal Things.</td>\n",
              "      <td>I'm Yours</td>\n",
              "      <td>80</td>\n",
              "      <td>242946</td>\n",
              "      <td>False</td>\n",
              "      <td>0.703</td>\n",
              "      <td>0.4440</td>\n",
              "      <td>11</td>\n",
              "      <td>...</td>\n",
              "      <td>1</td>\n",
              "      <td>0.0417</td>\n",
              "      <td>0.5590</td>\n",
              "      <td>0.000000</td>\n",
              "      <td>0.0973</td>\n",
              "      <td>0.7120</td>\n",
              "      <td>150.960</td>\n",
              "      <td>4</td>\n",
              "      <td>acoustic rock</td>\n",
              "      <td>music vocal presto major loud clean acoustic rock</td>\n",
              "    </tr>\n",
              "  </tbody>\n",
              "</table>\n",
              "<p>5 rows × 21 columns</p>\n",
              "</div>"
            ],
            "text/plain": [
              "                 track_id                               artists  \\\n",
              "0  5SuOikwiRyPMVoIQDJUgSV                           Gen Hoshino   \n",
              "1  6lfxq3CG4xtTiEg7opyCyx                          Kina Grannis   \n",
              "2  5vjLSffimiIP26QG5WcN2K                      Chord Overstreet   \n",
              "3  6Vc5wAMmXdKIAM7WUoEb7N  A Great Big World;Christina Aguilera   \n",
              "4  1EzrEOXmMH3G43AXT1y7pA                            Jason Mraz   \n",
              "\n",
              "                                          album_name  \\\n",
              "0                                             Comedy   \n",
              "1  Crazy Rich Asians (Original Motion Picture Sou...   \n",
              "2                                            Hold On   \n",
              "3                        Is There Anybody Out There?   \n",
              "4                We Sing. We Dance. We Steal Things.   \n",
              "\n",
              "                   track_name  popularity  duration_ms  explicit  \\\n",
              "0                      Comedy          73       230666     False   \n",
              "1  Can't Help Falling In Love          71       201933     False   \n",
              "2                     Hold On          82       198853     False   \n",
              "3               Say Something          74       229400     False   \n",
              "4                   I'm Yours          80       242946     False   \n",
              "\n",
              "   danceability  energy  key  ...  mode  speechiness  acousticness  \\\n",
              "0         0.676  0.4610    1  ...     0       0.1430        0.0322   \n",
              "1         0.266  0.0596    0  ...     1       0.0363        0.9050   \n",
              "2         0.618  0.4430    2  ...     1       0.0526        0.4690   \n",
              "3         0.407  0.1470    2  ...     1       0.0355        0.8570   \n",
              "4         0.703  0.4440   11  ...     1       0.0417        0.5590   \n",
              "\n",
              "   instrumentalness  liveness  valence    tempo  time_signature  \\\n",
              "0          0.000001    0.3580   0.7150   87.917               4   \n",
              "1          0.000071    0.1320   0.1430  181.740               3   \n",
              "2          0.000000    0.0829   0.1670  119.949               4   \n",
              "3          0.000003    0.0913   0.0765  141.284               3   \n",
              "4          0.000000    0.0973   0.7120  150.960               4   \n",
              "\n",
              "                                 track_genre  \\\n",
              "0  acoustic jpop singersongwriter songwriter   \n",
              "1                                   acoustic   \n",
              "2                                   acoustic   \n",
              "3                             acoustic piano   \n",
              "4                              acoustic rock   \n",
              "\n",
              "                                             content  \n",
              "0  music vocal moderato minor stentorian clean ac...  \n",
              "1  music vocal prestissimo major quiet clean acou...  \n",
              "2      music vocal allegro major loud clean acoustic  \n",
              "3  music vocal presto major loud clean acoustic p...  \n",
              "4  music vocal presto major loud clean acoustic rock  \n",
              "\n",
              "[5 rows x 21 columns]"
            ]
          },
          "execution_count": 25,
          "metadata": {},
          "output_type": "execute_result"
        }
      ],
      "source": [
        "track_prep.head()"
      ]
    },
    {
      "cell_type": "markdown",
      "source": [
        "Membuat 180 ID pengguna secara acak pada dataset user"
      ],
      "metadata": {
        "id": "bvy4mQzSrRDK"
      }
    },
    {
      "cell_type": "code",
      "execution_count": null,
      "metadata": {
        "id": "YQdm-8o2agQf"
      },
      "outputs": [],
      "source": [
        "def set_user_id(row):\n",
        "    user_id = str(row['user_id'])\n",
        "    rem_len = 5 - len(user_id)\n",
        "    return f'U{\"0\" * rem_len}{user_id}'"
      ]
    },
    {
      "cell_type": "code",
      "execution_count": null,
      "metadata": {
        "id": "nluXvos8agQf",
        "outputId": "f3c47aed-37e0-4ad4-9ffe-cce84b9c0ddd"
      },
      "outputs": [
        {
          "data": {
            "text/html": [
              "<div>\n",
              "<style scoped>\n",
              "    .dataframe tbody tr th:only-of-type {\n",
              "        vertical-align: middle;\n",
              "    }\n",
              "\n",
              "    .dataframe tbody tr th {\n",
              "        vertical-align: top;\n",
              "    }\n",
              "\n",
              "    .dataframe thead th {\n",
              "        text-align: right;\n",
              "    }\n",
              "</style>\n",
              "<table border=\"1\" class=\"dataframe\">\n",
              "  <thead>\n",
              "    <tr style=\"text-align: right;\">\n",
              "      <th></th>\n",
              "      <th>track_id</th>\n",
              "      <th>ts</th>\n",
              "      <th>platform</th>\n",
              "      <th>ms_played</th>\n",
              "      <th>track_name_x</th>\n",
              "      <th>artist_name</th>\n",
              "      <th>album_name_x</th>\n",
              "      <th>reason_start</th>\n",
              "      <th>reason_end</th>\n",
              "      <th>shuffle</th>\n",
              "      <th>...</th>\n",
              "      <th>speechiness</th>\n",
              "      <th>acousticness</th>\n",
              "      <th>instrumentalness</th>\n",
              "      <th>liveness</th>\n",
              "      <th>valence</th>\n",
              "      <th>tempo</th>\n",
              "      <th>time_signature</th>\n",
              "      <th>track_genre</th>\n",
              "      <th>content</th>\n",
              "      <th>user_id</th>\n",
              "    </tr>\n",
              "  </thead>\n",
              "  <tbody>\n",
              "    <tr>\n",
              "      <th>0</th>\n",
              "      <td>1oHxIPqJyvAYHy0PVrDU98</td>\n",
              "      <td>2013-07-08 02:45:37</td>\n",
              "      <td>web player</td>\n",
              "      <td>61865</td>\n",
              "      <td>Drinking from the Bottle (feat. Tinie Tempah)</td>\n",
              "      <td>Calvin Harris</td>\n",
              "      <td>18 Months</td>\n",
              "      <td>clickrow</td>\n",
              "      <td>clickrow</td>\n",
              "      <td>False</td>\n",
              "      <td>...</td>\n",
              "      <td>0.0514</td>\n",
              "      <td>0.046900</td>\n",
              "      <td>0.000062</td>\n",
              "      <td>0.0525</td>\n",
              "      <td>0.530</td>\n",
              "      <td>128.062</td>\n",
              "      <td>4</td>\n",
              "      <td>progressivehouse</td>\n",
              "      <td>music vocal allegro minor stentorian clean pro...</td>\n",
              "      <td>U00180</td>\n",
              "    </tr>\n",
              "    <tr>\n",
              "      <th>1</th>\n",
              "      <td>1oHxIPqJyvAYHy0PVrDU98</td>\n",
              "      <td>2019-11-24 04:21:06</td>\n",
              "      <td>android</td>\n",
              "      <td>240327</td>\n",
              "      <td>Drinking from the Bottle (feat. Tinie Tempah)</td>\n",
              "      <td>Calvin Harris</td>\n",
              "      <td>18 Months</td>\n",
              "      <td>trackdone</td>\n",
              "      <td>trackdone</td>\n",
              "      <td>True</td>\n",
              "      <td>...</td>\n",
              "      <td>0.0514</td>\n",
              "      <td>0.046900</td>\n",
              "      <td>0.000062</td>\n",
              "      <td>0.0525</td>\n",
              "      <td>0.530</td>\n",
              "      <td>128.062</td>\n",
              "      <td>4</td>\n",
              "      <td>progressivehouse</td>\n",
              "      <td>music vocal allegro minor stentorian clean pro...</td>\n",
              "      <td>U00152</td>\n",
              "    </tr>\n",
              "    <tr>\n",
              "      <th>2</th>\n",
              "      <td>4iG2gAwKXsOcijVaVXzRPW</td>\n",
              "      <td>2013-07-08 03:22:54</td>\n",
              "      <td>web player</td>\n",
              "      <td>1763</td>\n",
              "      <td>Time to Pretend</td>\n",
              "      <td>MGMT</td>\n",
              "      <td>Oracular Spectacular</td>\n",
              "      <td>clickrow</td>\n",
              "      <td>nextbtn</td>\n",
              "      <td>False</td>\n",
              "      <td>...</td>\n",
              "      <td>0.0452</td>\n",
              "      <td>0.000087</td>\n",
              "      <td>0.077700</td>\n",
              "      <td>0.3000</td>\n",
              "      <td>0.421</td>\n",
              "      <td>100.990</td>\n",
              "      <td>3</td>\n",
              "      <td>altrock</td>\n",
              "      <td>music vocal allegretto major stentorian explic...</td>\n",
              "      <td>U00128</td>\n",
              "    </tr>\n",
              "    <tr>\n",
              "      <th>3</th>\n",
              "      <td>4iG2gAwKXsOcijVaVXzRPW</td>\n",
              "      <td>2016-11-29 02:01:07</td>\n",
              "      <td>android</td>\n",
              "      <td>2959</td>\n",
              "      <td>Time to Pretend</td>\n",
              "      <td>MGMT</td>\n",
              "      <td>Oracular Spectacular</td>\n",
              "      <td>fwdbtn</td>\n",
              "      <td>fwdbtn</td>\n",
              "      <td>True</td>\n",
              "      <td>...</td>\n",
              "      <td>0.0452</td>\n",
              "      <td>0.000087</td>\n",
              "      <td>0.077700</td>\n",
              "      <td>0.3000</td>\n",
              "      <td>0.421</td>\n",
              "      <td>100.990</td>\n",
              "      <td>3</td>\n",
              "      <td>altrock</td>\n",
              "      <td>music vocal allegretto major stentorian explic...</td>\n",
              "      <td>U00120</td>\n",
              "    </tr>\n",
              "    <tr>\n",
              "      <th>4</th>\n",
              "      <td>4iG2gAwKXsOcijVaVXzRPW</td>\n",
              "      <td>2017-01-09 16:59:17</td>\n",
              "      <td>android</td>\n",
              "      <td>1555</td>\n",
              "      <td>Time to Pretend</td>\n",
              "      <td>MGMT</td>\n",
              "      <td>Oracular Spectacular</td>\n",
              "      <td>fwdbtn</td>\n",
              "      <td>fwdbtn</td>\n",
              "      <td>True</td>\n",
              "      <td>...</td>\n",
              "      <td>0.0452</td>\n",
              "      <td>0.000087</td>\n",
              "      <td>0.077700</td>\n",
              "      <td>0.3000</td>\n",
              "      <td>0.421</td>\n",
              "      <td>100.990</td>\n",
              "      <td>3</td>\n",
              "      <td>altrock</td>\n",
              "      <td>music vocal allegretto major stentorian explic...</td>\n",
              "      <td>U00063</td>\n",
              "    </tr>\n",
              "  </tbody>\n",
              "</table>\n",
              "<p>5 rows × 32 columns</p>\n",
              "</div>"
            ],
            "text/plain": [
              "                 track_id                   ts    platform  ms_played  \\\n",
              "0  1oHxIPqJyvAYHy0PVrDU98  2013-07-08 02:45:37  web player      61865   \n",
              "1  1oHxIPqJyvAYHy0PVrDU98  2019-11-24 04:21:06     android     240327   \n",
              "2  4iG2gAwKXsOcijVaVXzRPW  2013-07-08 03:22:54  web player       1763   \n",
              "3  4iG2gAwKXsOcijVaVXzRPW  2016-11-29 02:01:07     android       2959   \n",
              "4  4iG2gAwKXsOcijVaVXzRPW  2017-01-09 16:59:17     android       1555   \n",
              "\n",
              "                                    track_name_x    artist_name  \\\n",
              "0  Drinking from the Bottle (feat. Tinie Tempah)  Calvin Harris   \n",
              "1  Drinking from the Bottle (feat. Tinie Tempah)  Calvin Harris   \n",
              "2                                Time to Pretend           MGMT   \n",
              "3                                Time to Pretend           MGMT   \n",
              "4                                Time to Pretend           MGMT   \n",
              "\n",
              "           album_name_x reason_start reason_end  shuffle  ...  speechiness  \\\n",
              "0             18 Months     clickrow   clickrow    False  ...       0.0514   \n",
              "1             18 Months    trackdone  trackdone     True  ...       0.0514   \n",
              "2  Oracular Spectacular     clickrow    nextbtn    False  ...       0.0452   \n",
              "3  Oracular Spectacular       fwdbtn     fwdbtn     True  ...       0.0452   \n",
              "4  Oracular Spectacular       fwdbtn     fwdbtn     True  ...       0.0452   \n",
              "\n",
              "  acousticness instrumentalness liveness  valence    tempo  time_signature  \\\n",
              "0     0.046900         0.000062   0.0525    0.530  128.062               4   \n",
              "1     0.046900         0.000062   0.0525    0.530  128.062               4   \n",
              "2     0.000087         0.077700   0.3000    0.421  100.990               3   \n",
              "3     0.000087         0.077700   0.3000    0.421  100.990               3   \n",
              "4     0.000087         0.077700   0.3000    0.421  100.990               3   \n",
              "\n",
              "        track_genre                                            content  \\\n",
              "0  progressivehouse  music vocal allegro minor stentorian clean pro...   \n",
              "1  progressivehouse  music vocal allegro minor stentorian clean pro...   \n",
              "2           altrock  music vocal allegretto major stentorian explic...   \n",
              "3           altrock  music vocal allegretto major stentorian explic...   \n",
              "4           altrock  music vocal allegretto major stentorian explic...   \n",
              "\n",
              "   user_id  \n",
              "0   U00180  \n",
              "1   U00152  \n",
              "2   U00128  \n",
              "3   U00120  \n",
              "4   U00063  \n",
              "\n",
              "[5 rows x 32 columns]"
            ]
          },
          "execution_count": 35,
          "metadata": {},
          "output_type": "execute_result"
        }
      ],
      "source": [
        "user_merged = pd.merge(user_isin, track_prep, on='track_id', how='inner')\n",
        "user_merged['user_id'] = [random.randint(1, 180) for _ in range(len(user_merged))]\n",
        "user_merged['user_id'] = user_merged.apply(set_user_id, axis=1)\n",
        "user_merged.head()"
      ]
    },
    {
      "cell_type": "markdown",
      "source": [
        "**Data Merging**\n",
        "\n",
        "Akumulasi durasi mendengarkan dengan ID pengguna dan ID lagu yang sama"
      ],
      "metadata": {
        "id": "kk5jP-BdtKSy"
      }
    },
    {
      "cell_type": "code",
      "execution_count": null,
      "metadata": {
        "id": "RDwiuuopagQg",
        "outputId": "70e512a2-32ce-43e5-b47f-0680dfaafc18"
      },
      "outputs": [
        {
          "data": {
            "text/plain": [
              "2951"
            ]
          },
          "execution_count": 36,
          "metadata": {},
          "output_type": "execute_result"
        }
      ],
      "source": [
        "user_merged.duplicated(subset=['track_id', 'user_id']).sum()"
      ]
    },
    {
      "cell_type": "code",
      "execution_count": null,
      "metadata": {
        "id": "tLS18gdmagQg",
        "outputId": "43383138-0fbe-49cb-b0ad-43f26dc24749"
      },
      "outputs": [
        {
          "data": {
            "text/plain": [
              "(19462, 3)"
            ]
          },
          "execution_count": 37,
          "metadata": {},
          "output_type": "execute_result"
        }
      ],
      "source": [
        "user_prep = user_merged.groupby(['track_id', 'user_id'])['ms_played'].agg(sum).reset_index()\n",
        "user_prep.shape"
      ]
    },
    {
      "cell_type": "code",
      "execution_count": null,
      "metadata": {
        "id": "7dJY8NZcagQg",
        "outputId": "1c626fe1-741b-46e3-d24c-159fde58065e"
      },
      "outputs": [
        {
          "data": {
            "text/html": [
              "<div>\n",
              "<style scoped>\n",
              "    .dataframe tbody tr th:only-of-type {\n",
              "        vertical-align: middle;\n",
              "    }\n",
              "\n",
              "    .dataframe tbody tr th {\n",
              "        vertical-align: top;\n",
              "    }\n",
              "\n",
              "    .dataframe thead th {\n",
              "        text-align: right;\n",
              "    }\n",
              "</style>\n",
              "<table border=\"1\" class=\"dataframe\">\n",
              "  <thead>\n",
              "    <tr style=\"text-align: right;\">\n",
              "      <th></th>\n",
              "      <th>track_id</th>\n",
              "      <th>user_id</th>\n",
              "      <th>ms_played</th>\n",
              "    </tr>\n",
              "  </thead>\n",
              "  <tbody>\n",
              "    <tr>\n",
              "      <th>0</th>\n",
              "      <td>1oHxIPqJyvAYHy0PVrDU98</td>\n",
              "      <td>U00180</td>\n",
              "      <td>61865</td>\n",
              "    </tr>\n",
              "    <tr>\n",
              "      <th>1</th>\n",
              "      <td>1oHxIPqJyvAYHy0PVrDU98</td>\n",
              "      <td>U00152</td>\n",
              "      <td>240327</td>\n",
              "    </tr>\n",
              "    <tr>\n",
              "      <th>2</th>\n",
              "      <td>4iG2gAwKXsOcijVaVXzRPW</td>\n",
              "      <td>U00128</td>\n",
              "      <td>1763</td>\n",
              "    </tr>\n",
              "    <tr>\n",
              "      <th>3</th>\n",
              "      <td>4iG2gAwKXsOcijVaVXzRPW</td>\n",
              "      <td>U00120</td>\n",
              "      <td>2959</td>\n",
              "    </tr>\n",
              "    <tr>\n",
              "      <th>4</th>\n",
              "      <td>4iG2gAwKXsOcijVaVXzRPW</td>\n",
              "      <td>U00063</td>\n",
              "      <td>1555</td>\n",
              "    </tr>\n",
              "  </tbody>\n",
              "</table>\n",
              "</div>"
            ],
            "text/plain": [
              "                 track_id user_id  ms_played\n",
              "0  1oHxIPqJyvAYHy0PVrDU98  U00180      61865\n",
              "1  1oHxIPqJyvAYHy0PVrDU98  U00152     240327\n",
              "2  4iG2gAwKXsOcijVaVXzRPW  U00128       1763\n",
              "3  4iG2gAwKXsOcijVaVXzRPW  U00120       2959\n",
              "4  4iG2gAwKXsOcijVaVXzRPW  U00063       1555"
            ]
          },
          "execution_count": 115,
          "metadata": {},
          "output_type": "execute_result"
        }
      ],
      "source": [
        "user_prep = user_merged[['track_id', 'user_id', 'ms_played']]\n",
        "user_prep.head()"
      ]
    },
    {
      "cell_type": "markdown",
      "source": [
        "**Encoding**\n",
        "\n",
        "Mengubah ID user dan ID lagu pada dataset user ke dalam urutan angka dari 1 hingga jumlah ID yang ada, yaitu 180."
      ],
      "metadata": {
        "id": "o9fD-ZM-rfaG"
      }
    },
    {
      "cell_type": "code",
      "execution_count": null,
      "metadata": {
        "id": "9-UMPCP4agQh"
      },
      "outputs": [],
      "source": [
        "user_ids = user_prep['user_id'].unique().tolist()\n",
        "user_to_code = {x: i for i, x in enumerate(user_ids)}\n",
        "code_to_user = {i: x for i, x in enumerate(user_ids)}\n",
        "\n",
        "track_ids = user_prep['track_id'].unique().tolist()\n",
        "track_to_code = {x: i for i, x in enumerate(track_ids)}\n",
        "code_to_track = {i: x for i, x in enumerate(track_ids)}"
      ]
    },
    {
      "cell_type": "markdown",
      "source": [
        "**Scaling**\n",
        "\n",
        "Mengubah semua nilai 'ms_played' pada dataset user dalam skala antara 0 dan 1"
      ],
      "metadata": {
        "id": "PwztR5Dir3lh"
      }
    },
    {
      "cell_type": "code",
      "execution_count": null,
      "metadata": {
        "id": "pknowiAVagQh",
        "outputId": "f67e6744-bce1-4be8-c2bc-af2ba0f75e4a"
      },
      "outputs": [
        {
          "name": "stderr",
          "output_type": "stream",
          "text": [
            "C:\\Users\\Nitro\\AppData\\Local\\Temp\\ipykernel_8848\\1967737198.py:1: SettingWithCopyWarning: \n",
            "A value is trying to be set on a copy of a slice from a DataFrame.\n",
            "Try using .loc[row_indexer,col_indexer] = value instead\n",
            "\n",
            "See the caveats in the documentation: https://pandas.pydata.org/pandas-docs/stable/user_guide/indexing.html#returning-a-view-versus-a-copy\n",
            "  user_prep['user'] = user_prep['user_id'].map(user_to_code)\n",
            "C:\\Users\\Nitro\\AppData\\Local\\Temp\\ipykernel_8848\\1967737198.py:2: SettingWithCopyWarning: \n",
            "A value is trying to be set on a copy of a slice from a DataFrame.\n",
            "Try using .loc[row_indexer,col_indexer] = value instead\n",
            "\n",
            "See the caveats in the documentation: https://pandas.pydata.org/pandas-docs/stable/user_guide/indexing.html#returning-a-view-versus-a-copy\n",
            "  user_prep['track'] = user_prep['track_id'].map(track_to_code)\n",
            "C:\\Users\\Nitro\\AppData\\Local\\Temp\\ipykernel_8848\\1967737198.py:3: SettingWithCopyWarning: \n",
            "A value is trying to be set on a copy of a slice from a DataFrame.\n",
            "Try using .loc[row_indexer,col_indexer] = value instead\n",
            "\n",
            "See the caveats in the documentation: https://pandas.pydata.org/pandas-docs/stable/user_guide/indexing.html#returning-a-view-versus-a-copy\n",
            "  user_prep['ms_played'] = user_prep['ms_played'].values.astype(np.float32)\n"
          ]
        },
        {
          "data": {
            "text/html": [
              "<div>\n",
              "<style scoped>\n",
              "    .dataframe tbody tr th:only-of-type {\n",
              "        vertical-align: middle;\n",
              "    }\n",
              "\n",
              "    .dataframe tbody tr th {\n",
              "        vertical-align: top;\n",
              "    }\n",
              "\n",
              "    .dataframe thead th {\n",
              "        text-align: right;\n",
              "    }\n",
              "</style>\n",
              "<table border=\"1\" class=\"dataframe\">\n",
              "  <thead>\n",
              "    <tr style=\"text-align: right;\">\n",
              "      <th></th>\n",
              "      <th>track_id</th>\n",
              "      <th>user_id</th>\n",
              "      <th>ms_played</th>\n",
              "      <th>user</th>\n",
              "      <th>track</th>\n",
              "    </tr>\n",
              "  </thead>\n",
              "  <tbody>\n",
              "    <tr>\n",
              "      <th>11131</th>\n",
              "      <td>5FPnjikbwlDMULCCCa6ZCJ</td>\n",
              "      <td>U00001</td>\n",
              "      <td>2142.0</td>\n",
              "      <td>62</td>\n",
              "      <td>343</td>\n",
              "    </tr>\n",
              "    <tr>\n",
              "      <th>20478</th>\n",
              "      <td>714hERk9U1W8FMYkoC83CO</td>\n",
              "      <td>U00088</td>\n",
              "      <td>244920.0</td>\n",
              "      <td>78</td>\n",
              "      <td>828</td>\n",
              "    </tr>\n",
              "    <tr>\n",
              "      <th>19230</th>\n",
              "      <td>6PwjJ58I4t7Mae9xfZ9l9v</td>\n",
              "      <td>U00152</td>\n",
              "      <td>197200.0</td>\n",
              "      <td>1</td>\n",
              "      <td>706</td>\n",
              "    </tr>\n",
              "    <tr>\n",
              "      <th>3794</th>\n",
              "      <td>4F1AgKpuFRMLEgtPETVwZk</td>\n",
              "      <td>U00149</td>\n",
              "      <td>129120.0</td>\n",
              "      <td>31</td>\n",
              "      <td>158</td>\n",
              "    </tr>\n",
              "    <tr>\n",
              "      <th>134</th>\n",
              "      <td>4LloVtxNZpeh7q7xdi1DQc</td>\n",
              "      <td>U00121</td>\n",
              "      <td>263573.0</td>\n",
              "      <td>85</td>\n",
              "      <td>5</td>\n",
              "    </tr>\n",
              "  </tbody>\n",
              "</table>\n",
              "</div>"
            ],
            "text/plain": [
              "                     track_id user_id  ms_played  user  track\n",
              "11131  5FPnjikbwlDMULCCCa6ZCJ  U00001     2142.0    62    343\n",
              "20478  714hERk9U1W8FMYkoC83CO  U00088   244920.0    78    828\n",
              "19230  6PwjJ58I4t7Mae9xfZ9l9v  U00152   197200.0     1    706\n",
              "3794   4F1AgKpuFRMLEgtPETVwZk  U00149   129120.0    31    158\n",
              "134    4LloVtxNZpeh7q7xdi1DQc  U00121   263573.0    85      5"
            ]
          },
          "execution_count": 120,
          "metadata": {},
          "output_type": "execute_result"
        }
      ],
      "source": [
        "user_prep['user'] = user_prep['user_id'].map(user_to_code)\n",
        "user_prep['track'] = user_prep['track_id'].map(track_to_code)\n",
        "user_prep['ms_played'] = user_prep['ms_played'].values.astype(np.float32)\n",
        "user_prep = user_prep.sample(frac=1, random_state=42)\n",
        "user_prep.head()"
      ]
    },
    {
      "cell_type": "markdown",
      "source": [
        "**Train-test Split**\n",
        "\n",
        "Dataset user dibagi menjadi data training dan validation dengan proporsi 80:20."
      ],
      "metadata": {
        "id": "XsO1v6yhuFJP"
      }
    },
    {
      "cell_type": "code",
      "execution_count": null,
      "metadata": {
        "id": "rpTOJ5lnagQh"
      },
      "outputs": [],
      "source": [
        "min_ms = min(user_prep['ms_played'])\n",
        "max_ms = max(user_prep['ms_played'])\n",
        "\n",
        "x = user_prep[['user', 'track']].values\n",
        "y = user_prep['ms_played'].apply(lambda x: (x - min_ms) / (max_ms - min_ms)).values\n",
        "train_indices = int(0.8 * user_prep.shape[0])\n",
        "x_train, x_val, y_train, y_val = (\n",
        "    x[:train_indices],\n",
        "    x[train_indices:],\n",
        "    y[:train_indices],\n",
        "    y[train_indices:]\n",
        ")"
      ]
    },
    {
      "cell_type": "markdown",
      "metadata": {
        "id": "1498HTbBbVKw"
      },
      "source": [
        "# **Model Development**"
      ]
    },
    {
      "cell_type": "markdown",
      "source": [
        "**Cosine Similarity**\n",
        "\n",
        "Membangun model rekomendasi *content-based filtering* yang memberikan rekomendasi berdasarkan konten dari item yang diinputkan"
      ],
      "metadata": {
        "id": "zQNwUyMOuTlU"
      }
    },
    {
      "cell_type": "code",
      "execution_count": null,
      "metadata": {
        "colab": {
          "base_uri": "https://localhost:8080/"
        },
        "id": "H5wMPIgku8yA",
        "outputId": "46da3cab-95f6-4ffd-b2a8-d0f9e2613eb1"
      },
      "outputs": [
        {
          "data": {
            "text/plain": [
              "array(['acoustic', 'adagietto', 'adagio', 'afrobeat', 'allegretto',\n",
              "       'allegro', 'alternative', 'altrock', 'ambient', 'andante', 'anime',\n",
              "       'bluegrass', 'blues', 'brazil', 'breakbeat', 'british', 'cantopop',\n",
              "       'chicagohouse', 'children', 'chill', 'classical', 'clean', 'club',\n",
              "       'comedy', 'country', 'dance', 'dancehall', 'deathmetal',\n",
              "       'deephouse', 'disco', 'disney', 'drumandbass', 'dub', 'dubstep',\n",
              "       'edm', 'electro', 'electronic', 'emo', 'explicit', 'folk', 'forro',\n",
              "       'french', 'funk', 'garage', 'german', 'gospel', 'goth', 'grave',\n",
              "       'groove', 'grunge', 'guitar', 'happy', 'hardcore', 'hardrock',\n",
              "       'hardstyle', 'heavymetal', 'hiphop', 'house', 'idm', 'indian',\n",
              "       'indie', 'indiepop', 'industrial', 'instrumental', 'jazz',\n",
              "       'jdance', 'jidol', 'jpop', 'jrock', 'kids', 'kpop', 'largo',\n",
              "       'latin', 'latino', 'loud', 'major', 'malay', 'mandopop', 'metal',\n",
              "       'metalcore', 'minimaltechno', 'minor', 'moderato', 'mpb', 'music',\n",
              "       'newage', 'normal', 'opera', 'pagode', 'party', 'piano', 'pop',\n",
              "       'popfilm', 'powerpop', 'prestissimo', 'presto', 'progressivehouse',\n",
              "       'psychrock', 'punk', 'punkrock', 'quiet', 'reggae', 'reggaeton',\n",
              "       'rnb', 'rock', 'rockabilly', 'rocknroll', 'sad', 'salsa', 'samba',\n",
              "       'sertanejo', 'showtunes', 'singersongwriter', 'ska', 'sleep',\n",
              "       'songwriter', 'soul', 'spanish', 'speech', 'stentorian', 'swedish',\n",
              "       'synthpop', 'techno', 'trance', 'triphop', 'turkish', 'vivace',\n",
              "       'vocal', 'worldmusic'], dtype=object)"
            ]
          },
          "execution_count": 26,
          "metadata": {},
          "output_type": "execute_result"
        }
      ],
      "source": [
        "tf_idf = TfidfVectorizer()\n",
        "tf_idf.fit(track_prep['content'])\n",
        "tf_idf.get_feature_names_out()"
      ]
    },
    {
      "cell_type": "code",
      "execution_count": null,
      "metadata": {
        "colab": {
          "base_uri": "https://localhost:8080/"
        },
        "id": "PVKtWMAAvel0",
        "outputId": "22c9ad62-d78d-43b0-a8a3-20b6c621c8bf"
      },
      "outputs": [
        {
          "data": {
            "text/plain": [
              "(9488, 129)"
            ]
          },
          "execution_count": 27,
          "metadata": {},
          "output_type": "execute_result"
        }
      ],
      "source": [
        "tfidf_matrix = tf_idf.fit_transform(track_prep['content'])\n",
        "tfidf_matrix = tfidf_matrix.astype(np.float32)\n",
        "tfidf_matrix.shape"
      ]
    },
    {
      "cell_type": "code",
      "execution_count": null,
      "metadata": {
        "id": "vTYUpKDbagQe",
        "outputId": "40088858-609b-4bf6-d96c-800512575b67"
      },
      "outputs": [
        {
          "data": {
            "text/plain": [
              "matrix([[0.5186882 , 0.        , 0.        , ..., 0.        , 0.09963802,\n",
              "         0.        ],\n",
              "        [0.6653519 , 0.        , 0.        , ..., 0.        , 0.12781157,\n",
              "         0.        ],\n",
              "        [0.81078684, 0.        , 0.        , ..., 0.        , 0.15574904,\n",
              "         0.        ],\n",
              "        ...,\n",
              "        [0.        , 0.        , 0.        , ..., 0.        , 0.13547343,\n",
              "         0.8401045 ],\n",
              "        [0.        , 0.        , 0.        , ..., 0.        , 0.13845068,\n",
              "         0.85856724],\n",
              "        [0.        , 0.        , 0.        , ..., 0.        , 0.12393811,\n",
              "         0.76857114]], dtype=float32)"
            ]
          },
          "execution_count": 28,
          "metadata": {},
          "output_type": "execute_result"
        }
      ],
      "source": [
        "tfidf_matrix.todense()"
      ]
    },
    {
      "cell_type": "code",
      "execution_count": null,
      "metadata": {
        "colab": {
          "base_uri": "https://localhost:8080/",
          "height": 657
        },
        "id": "8URykaowvoma",
        "outputId": "af62d889-d624-476f-be01-7d2339afca74"
      },
      "outputs": [
        {
          "data": {
            "text/html": [
              "<div>\n",
              "<style scoped>\n",
              "    .dataframe tbody tr th:only-of-type {\n",
              "        vertical-align: middle;\n",
              "    }\n",
              "\n",
              "    .dataframe tbody tr th {\n",
              "        vertical-align: top;\n",
              "    }\n",
              "\n",
              "    .dataframe thead th {\n",
              "        text-align: right;\n",
              "    }\n",
              "</style>\n",
              "<table border=\"1\" class=\"dataframe\">\n",
              "  <thead>\n",
              "    <tr style=\"text-align: right;\">\n",
              "      <th></th>\n",
              "      <th>hardcore</th>\n",
              "      <th>songwriter</th>\n",
              "      <th>sad</th>\n",
              "      <th>quiet</th>\n",
              "      <th>club</th>\n",
              "      <th>rocknroll</th>\n",
              "      <th>loud</th>\n",
              "      <th>forro</th>\n",
              "      <th>jrock</th>\n",
              "      <th>afrobeat</th>\n",
              "    </tr>\n",
              "    <tr>\n",
              "      <th>track_name</th>\n",
              "      <th></th>\n",
              "      <th></th>\n",
              "      <th></th>\n",
              "      <th></th>\n",
              "      <th></th>\n",
              "      <th></th>\n",
              "      <th></th>\n",
              "      <th></th>\n",
              "      <th></th>\n",
              "      <th></th>\n",
              "    </tr>\n",
              "  </thead>\n",
              "  <tbody>\n",
              "    <tr>\n",
              "      <th>Bijlee Bijlee</th>\n",
              "      <td>0.0</td>\n",
              "      <td>0.0</td>\n",
              "      <td>0.0</td>\n",
              "      <td>0.000000</td>\n",
              "      <td>0.0</td>\n",
              "      <td>0.000000</td>\n",
              "      <td>0.000000</td>\n",
              "      <td>0.0</td>\n",
              "      <td>0.0</td>\n",
              "      <td>0.0</td>\n",
              "    </tr>\n",
              "    <tr>\n",
              "      <th>grace</th>\n",
              "      <td>0.0</td>\n",
              "      <td>0.0</td>\n",
              "      <td>0.0</td>\n",
              "      <td>0.000000</td>\n",
              "      <td>0.0</td>\n",
              "      <td>0.000000</td>\n",
              "      <td>0.339952</td>\n",
              "      <td>0.0</td>\n",
              "      <td>0.0</td>\n",
              "      <td>0.0</td>\n",
              "    </tr>\n",
              "    <tr>\n",
              "      <th>Shimmering Above Clouds</th>\n",
              "      <td>0.0</td>\n",
              "      <td>0.0</td>\n",
              "      <td>0.0</td>\n",
              "      <td>0.368257</td>\n",
              "      <td>0.0</td>\n",
              "      <td>0.000000</td>\n",
              "      <td>0.000000</td>\n",
              "      <td>0.0</td>\n",
              "      <td>0.0</td>\n",
              "      <td>0.0</td>\n",
              "    </tr>\n",
              "    <tr>\n",
              "      <th>We Will Rock You - Remastered 2011</th>\n",
              "      <td>0.0</td>\n",
              "      <td>0.0</td>\n",
              "      <td>0.0</td>\n",
              "      <td>0.000000</td>\n",
              "      <td>0.0</td>\n",
              "      <td>0.000000</td>\n",
              "      <td>0.351731</td>\n",
              "      <td>0.0</td>\n",
              "      <td>0.0</td>\n",
              "      <td>0.0</td>\n",
              "    </tr>\n",
              "    <tr>\n",
              "      <th>BABY OTAKU</th>\n",
              "      <td>0.0</td>\n",
              "      <td>0.0</td>\n",
              "      <td>0.0</td>\n",
              "      <td>0.000000</td>\n",
              "      <td>0.0</td>\n",
              "      <td>0.000000</td>\n",
              "      <td>0.000000</td>\n",
              "      <td>0.0</td>\n",
              "      <td>0.0</td>\n",
              "      <td>0.0</td>\n",
              "    </tr>\n",
              "    <tr>\n",
              "      <th>State Lines</th>\n",
              "      <td>0.0</td>\n",
              "      <td>0.0</td>\n",
              "      <td>0.0</td>\n",
              "      <td>0.000000</td>\n",
              "      <td>0.0</td>\n",
              "      <td>0.000000</td>\n",
              "      <td>0.208828</td>\n",
              "      <td>0.0</td>\n",
              "      <td>0.0</td>\n",
              "      <td>0.0</td>\n",
              "    </tr>\n",
              "    <tr>\n",
              "      <th>@ my worst</th>\n",
              "      <td>0.0</td>\n",
              "      <td>0.0</td>\n",
              "      <td>0.0</td>\n",
              "      <td>0.000000</td>\n",
              "      <td>0.0</td>\n",
              "      <td>0.000000</td>\n",
              "      <td>0.000000</td>\n",
              "      <td>0.0</td>\n",
              "      <td>0.0</td>\n",
              "      <td>0.0</td>\n",
              "    </tr>\n",
              "    <tr>\n",
              "      <th>idfc</th>\n",
              "      <td>0.0</td>\n",
              "      <td>0.0</td>\n",
              "      <td>0.0</td>\n",
              "      <td>0.000000</td>\n",
              "      <td>0.0</td>\n",
              "      <td>0.000000</td>\n",
              "      <td>0.296100</td>\n",
              "      <td>0.0</td>\n",
              "      <td>0.0</td>\n",
              "      <td>0.0</td>\n",
              "    </tr>\n",
              "    <tr>\n",
              "      <th>You've Lost That Loving Feeling - Live at The International Hotel, Las Vegas</th>\n",
              "      <td>0.0</td>\n",
              "      <td>0.0</td>\n",
              "      <td>0.0</td>\n",
              "      <td>0.000000</td>\n",
              "      <td>0.0</td>\n",
              "      <td>0.591014</td>\n",
              "      <td>0.000000</td>\n",
              "      <td>0.0</td>\n",
              "      <td>0.0</td>\n",
              "      <td>0.0</td>\n",
              "    </tr>\n",
              "    <tr>\n",
              "      <th>Outro: Wings</th>\n",
              "      <td>0.0</td>\n",
              "      <td>0.0</td>\n",
              "      <td>0.0</td>\n",
              "      <td>0.000000</td>\n",
              "      <td>0.0</td>\n",
              "      <td>0.000000</td>\n",
              "      <td>0.000000</td>\n",
              "      <td>0.0</td>\n",
              "      <td>0.0</td>\n",
              "      <td>0.0</td>\n",
              "    </tr>\n",
              "  </tbody>\n",
              "</table>\n",
              "</div>"
            ],
            "text/plain": [
              "                                                    hardcore  songwriter  sad  \\\n",
              "track_name                                                                      \n",
              "Bijlee Bijlee                                            0.0         0.0  0.0   \n",
              "grace                                                    0.0         0.0  0.0   \n",
              "Shimmering Above Clouds                                  0.0         0.0  0.0   \n",
              "We Will Rock You - Remastered 2011                       0.0         0.0  0.0   \n",
              "BABY OTAKU                                               0.0         0.0  0.0   \n",
              "State Lines                                              0.0         0.0  0.0   \n",
              "@ my worst                                               0.0         0.0  0.0   \n",
              "idfc                                                     0.0         0.0  0.0   \n",
              "You've Lost That Loving Feeling - Live at The I...       0.0         0.0  0.0   \n",
              "Outro: Wings                                             0.0         0.0  0.0   \n",
              "\n",
              "                                                       quiet  club  rocknroll  \\\n",
              "track_name                                                                      \n",
              "Bijlee Bijlee                                       0.000000   0.0   0.000000   \n",
              "grace                                               0.000000   0.0   0.000000   \n",
              "Shimmering Above Clouds                             0.368257   0.0   0.000000   \n",
              "We Will Rock You - Remastered 2011                  0.000000   0.0   0.000000   \n",
              "BABY OTAKU                                          0.000000   0.0   0.000000   \n",
              "State Lines                                         0.000000   0.0   0.000000   \n",
              "@ my worst                                          0.000000   0.0   0.000000   \n",
              "idfc                                                0.000000   0.0   0.000000   \n",
              "You've Lost That Loving Feeling - Live at The I...  0.000000   0.0   0.591014   \n",
              "Outro: Wings                                        0.000000   0.0   0.000000   \n",
              "\n",
              "                                                        loud  forro  jrock  \\\n",
              "track_name                                                                   \n",
              "Bijlee Bijlee                                       0.000000    0.0    0.0   \n",
              "grace                                               0.339952    0.0    0.0   \n",
              "Shimmering Above Clouds                             0.000000    0.0    0.0   \n",
              "We Will Rock You - Remastered 2011                  0.351731    0.0    0.0   \n",
              "BABY OTAKU                                          0.000000    0.0    0.0   \n",
              "State Lines                                         0.208828    0.0    0.0   \n",
              "@ my worst                                          0.000000    0.0    0.0   \n",
              "idfc                                                0.296100    0.0    0.0   \n",
              "You've Lost That Loving Feeling - Live at The I...  0.000000    0.0    0.0   \n",
              "Outro: Wings                                        0.000000    0.0    0.0   \n",
              "\n",
              "                                                    afrobeat  \n",
              "track_name                                                    \n",
              "Bijlee Bijlee                                            0.0  \n",
              "grace                                                    0.0  \n",
              "Shimmering Above Clouds                                  0.0  \n",
              "We Will Rock You - Remastered 2011                       0.0  \n",
              "BABY OTAKU                                               0.0  \n",
              "State Lines                                              0.0  \n",
              "@ my worst                                               0.0  \n",
              "idfc                                                     0.0  \n",
              "You've Lost That Loving Feeling - Live at The I...       0.0  \n",
              "Outro: Wings                                             0.0  "
            ]
          },
          "execution_count": 29,
          "metadata": {},
          "output_type": "execute_result"
        }
      ],
      "source": [
        "df_tfidf = pd.DataFrame(\n",
        "    tfidf_matrix.todense(),\n",
        "    columns=tf_idf.get_feature_names_out(),\n",
        "    index=track_prep['track_name']\n",
        ")\n",
        "df_tfidf.sample(10, axis=1).sample(10, axis=0)"
      ]
    },
    {
      "cell_type": "code",
      "execution_count": null,
      "metadata": {
        "colab": {
          "base_uri": "https://localhost:8080/",
          "height": 412
        },
        "id": "Lm_qKr1Jw25R",
        "outputId": "991f2d12-5e59-48bc-83e1-71bd0bad1c0a"
      },
      "outputs": [
        {
          "name": "stdout",
          "output_type": "stream",
          "text": [
            "Shape: (9488, 9488)\n"
          ]
        },
        {
          "data": {
            "text/html": [
              "<div>\n",
              "<style scoped>\n",
              "    .dataframe tbody tr th:only-of-type {\n",
              "        vertical-align: middle;\n",
              "    }\n",
              "\n",
              "    .dataframe tbody tr th {\n",
              "        vertical-align: top;\n",
              "    }\n",
              "\n",
              "    .dataframe thead th {\n",
              "        text-align: right;\n",
              "    }\n",
              "</style>\n",
              "<table border=\"1\" class=\"dataframe\">\n",
              "  <thead>\n",
              "    <tr style=\"text-align: right;\">\n",
              "      <th>track_id</th>\n",
              "      <th>57uX2vR9j9DNiANDYfXw1i</th>\n",
              "      <th>4F3AZKEJubvPsl0hBArVBW</th>\n",
              "      <th>3Y6XWs8xMlCngyIxNOFnsp</th>\n",
              "      <th>4dSoDnmR9opAQ8KxUc9SbC</th>\n",
              "      <th>31AOj9sFz2gM0O3hMARRBx</th>\n",
              "    </tr>\n",
              "    <tr>\n",
              "      <th>track_id</th>\n",
              "      <th></th>\n",
              "      <th></th>\n",
              "      <th></th>\n",
              "      <th></th>\n",
              "      <th></th>\n",
              "    </tr>\n",
              "  </thead>\n",
              "  <tbody>\n",
              "    <tr>\n",
              "      <th>2k5SEAK05D29ZkqbnFgIVL</th>\n",
              "      <td>0.078048</td>\n",
              "      <td>0.116079</td>\n",
              "      <td>0.072298</td>\n",
              "      <td>0.068864</td>\n",
              "      <td>0.172471</td>\n",
              "    </tr>\n",
              "    <tr>\n",
              "      <th>6Q5uDNuuFYa8ToL3CCoHPC</th>\n",
              "      <td>0.089923</td>\n",
              "      <td>0.017093</td>\n",
              "      <td>0.083298</td>\n",
              "      <td>0.079342</td>\n",
              "      <td>0.088155</td>\n",
              "    </tr>\n",
              "    <tr>\n",
              "      <th>5HcBFhFQEtqKrsRkr95XYu</th>\n",
              "      <td>0.250808</td>\n",
              "      <td>0.121822</td>\n",
              "      <td>0.161478</td>\n",
              "      <td>0.221297</td>\n",
              "      <td>0.207408</td>\n",
              "    </tr>\n",
              "    <tr>\n",
              "      <th>5qhWIOZ6HztbHnsWNnkJTf</th>\n",
              "      <td>0.084799</td>\n",
              "      <td>0.126120</td>\n",
              "      <td>0.193691</td>\n",
              "      <td>0.074821</td>\n",
              "      <td>0.187390</td>\n",
              "    </tr>\n",
              "    <tr>\n",
              "      <th>0BAsf69u0gltlMFYMADpAn</th>\n",
              "      <td>0.250938</td>\n",
              "      <td>0.142341</td>\n",
              "      <td>0.062388</td>\n",
              "      <td>0.102534</td>\n",
              "      <td>0.120520</td>\n",
              "    </tr>\n",
              "    <tr>\n",
              "      <th>0GQngE2rOYvlKwEQjTAsP8</th>\n",
              "      <td>0.206878</td>\n",
              "      <td>0.247909</td>\n",
              "      <td>0.291405</td>\n",
              "      <td>0.182535</td>\n",
              "      <td>0.094706</td>\n",
              "    </tr>\n",
              "    <tr>\n",
              "      <th>6Fnvi5QnVkTskSzeRvvQds</th>\n",
              "      <td>0.163126</td>\n",
              "      <td>0.199810</td>\n",
              "      <td>0.087576</td>\n",
              "      <td>0.368347</td>\n",
              "      <td>0.169179</td>\n",
              "    </tr>\n",
              "    <tr>\n",
              "      <th>04VUjNx30IrigVZU3CQmrQ</th>\n",
              "      <td>0.165916</td>\n",
              "      <td>0.366232</td>\n",
              "      <td>0.264005</td>\n",
              "      <td>0.146394</td>\n",
              "      <td>0.172072</td>\n",
              "    </tr>\n",
              "    <tr>\n",
              "      <th>5EugXICXL06waHgP4iTI58</th>\n",
              "      <td>0.072186</td>\n",
              "      <td>0.107361</td>\n",
              "      <td>0.164882</td>\n",
              "      <td>0.235043</td>\n",
              "      <td>0.096125</td>\n",
              "    </tr>\n",
              "    <tr>\n",
              "      <th>6Sf2YqGzNmVfSNpLFWuYbz</th>\n",
              "      <td>0.136693</td>\n",
              "      <td>0.167432</td>\n",
              "      <td>0.073385</td>\n",
              "      <td>0.120609</td>\n",
              "      <td>0.141765</td>\n",
              "    </tr>\n",
              "  </tbody>\n",
              "</table>\n",
              "</div>"
            ],
            "text/plain": [
              "track_id                57uX2vR9j9DNiANDYfXw1i  4F3AZKEJubvPsl0hBArVBW  \\\n",
              "track_id                                                                 \n",
              "2k5SEAK05D29ZkqbnFgIVL                0.078048                0.116079   \n",
              "6Q5uDNuuFYa8ToL3CCoHPC                0.089923                0.017093   \n",
              "5HcBFhFQEtqKrsRkr95XYu                0.250808                0.121822   \n",
              "5qhWIOZ6HztbHnsWNnkJTf                0.084799                0.126120   \n",
              "0BAsf69u0gltlMFYMADpAn                0.250938                0.142341   \n",
              "0GQngE2rOYvlKwEQjTAsP8                0.206878                0.247909   \n",
              "6Fnvi5QnVkTskSzeRvvQds                0.163126                0.199810   \n",
              "04VUjNx30IrigVZU3CQmrQ                0.165916                0.366232   \n",
              "5EugXICXL06waHgP4iTI58                0.072186                0.107361   \n",
              "6Sf2YqGzNmVfSNpLFWuYbz                0.136693                0.167432   \n",
              "\n",
              "track_id                3Y6XWs8xMlCngyIxNOFnsp  4dSoDnmR9opAQ8KxUc9SbC  \\\n",
              "track_id                                                                 \n",
              "2k5SEAK05D29ZkqbnFgIVL                0.072298                0.068864   \n",
              "6Q5uDNuuFYa8ToL3CCoHPC                0.083298                0.079342   \n",
              "5HcBFhFQEtqKrsRkr95XYu                0.161478                0.221297   \n",
              "5qhWIOZ6HztbHnsWNnkJTf                0.193691                0.074821   \n",
              "0BAsf69u0gltlMFYMADpAn                0.062388                0.102534   \n",
              "0GQngE2rOYvlKwEQjTAsP8                0.291405                0.182535   \n",
              "6Fnvi5QnVkTskSzeRvvQds                0.087576                0.368347   \n",
              "04VUjNx30IrigVZU3CQmrQ                0.264005                0.146394   \n",
              "5EugXICXL06waHgP4iTI58                0.164882                0.235043   \n",
              "6Sf2YqGzNmVfSNpLFWuYbz                0.073385                0.120609   \n",
              "\n",
              "track_id                31AOj9sFz2gM0O3hMARRBx  \n",
              "track_id                                        \n",
              "2k5SEAK05D29ZkqbnFgIVL                0.172471  \n",
              "6Q5uDNuuFYa8ToL3CCoHPC                0.088155  \n",
              "5HcBFhFQEtqKrsRkr95XYu                0.207408  \n",
              "5qhWIOZ6HztbHnsWNnkJTf                0.187390  \n",
              "0BAsf69u0gltlMFYMADpAn                0.120520  \n",
              "0GQngE2rOYvlKwEQjTAsP8                0.094706  \n",
              "6Fnvi5QnVkTskSzeRvvQds                0.169179  \n",
              "04VUjNx30IrigVZU3CQmrQ                0.172072  \n",
              "5EugXICXL06waHgP4iTI58                0.096125  \n",
              "6Sf2YqGzNmVfSNpLFWuYbz                0.141765  "
            ]
          },
          "execution_count": 30,
          "metadata": {},
          "output_type": "execute_result"
        }
      ],
      "source": [
        "cosine_sim = cosine_similarity(tfidf_matrix)\n",
        "cosine_sim_df = pd.DataFrame(cosine_sim, index=track_prep['track_id'], columns=track_prep['track_id'])\n",
        "print('Shape:', cosine_sim_df.shape)\n",
        "cosine_sim_df.sample(5, axis=1).sample(10, axis=0)"
      ]
    },
    {
      "cell_type": "code",
      "execution_count": null,
      "metadata": {
        "id": "gsmyi6rPxGxf"
      },
      "outputs": [],
      "source": [
        "def recommendations(track_id, similarity_data=cosine_sim_df, items=track_prep, k=5):\n",
        "    sim = similarity_data.loc[:, track_id].to_numpy()\n",
        "    idx_range = range(-1, -k, -1)\n",
        "    index = sim.argpartition(idx_range)\n",
        "    closest = similarity_data.columns[index[-1:-(k+2):-1]]\n",
        "    scores =  sim[index[-1:-(k+2):-1]]\n",
        "\n",
        "    df_closest = pd.DataFrame(closest).merge(items, on='track_id')\n",
        "    df_closest = df_closest[['track_id', 'artists', 'track_name', 'content']]\n",
        "\n",
        "    df_closest['score'] = scores\n",
        "    df_closest.set_index('track_id', inplace=True)\n",
        "    df_closest.drop(track_id, errors='ignore', inplace=True)\n",
        "    df_closest.sort_values('score', ascending=False, inplace=True)\n",
        "    return df_closest.head()"
      ]
    },
    {
      "cell_type": "markdown",
      "source": [
        "Percobaan sistem *content-based filtering* dengan ID lagu '10rChmECwPcvTTj4w07hq4'."
      ],
      "metadata": {
        "id": "hHilwPPZuvrX"
      }
    },
    {
      "cell_type": "code",
      "execution_count": null,
      "metadata": {
        "id": "PKNbLspYagQf",
        "outputId": "a0826a23-c14e-43b4-b2fe-4bca9b856498"
      },
      "outputs": [
        {
          "data": {
            "text/html": [
              "<div>\n",
              "<style scoped>\n",
              "    .dataframe tbody tr th:only-of-type {\n",
              "        vertical-align: middle;\n",
              "    }\n",
              "\n",
              "    .dataframe tbody tr th {\n",
              "        vertical-align: top;\n",
              "    }\n",
              "\n",
              "    .dataframe thead th {\n",
              "        text-align: right;\n",
              "    }\n",
              "</style>\n",
              "<table border=\"1\" class=\"dataframe\">\n",
              "  <thead>\n",
              "    <tr style=\"text-align: right;\">\n",
              "      <th></th>\n",
              "      <th>track_id</th>\n",
              "      <th>artists</th>\n",
              "      <th>album_name</th>\n",
              "      <th>track_name</th>\n",
              "      <th>popularity</th>\n",
              "      <th>duration_ms</th>\n",
              "      <th>explicit</th>\n",
              "      <th>danceability</th>\n",
              "      <th>energy</th>\n",
              "      <th>key</th>\n",
              "      <th>...</th>\n",
              "      <th>mode</th>\n",
              "      <th>speechiness</th>\n",
              "      <th>acousticness</th>\n",
              "      <th>instrumentalness</th>\n",
              "      <th>liveness</th>\n",
              "      <th>valence</th>\n",
              "      <th>tempo</th>\n",
              "      <th>time_signature</th>\n",
              "      <th>track_genre</th>\n",
              "      <th>content</th>\n",
              "    </tr>\n",
              "  </thead>\n",
              "  <tbody>\n",
              "    <tr>\n",
              "      <th>7953</th>\n",
              "      <td>10rChmECwPcvTTj4w07hq4</td>\n",
              "      <td>Simple Plan</td>\n",
              "      <td>Still Not Getting Any</td>\n",
              "      <td>Welcome to My Life</td>\n",
              "      <td>69</td>\n",
              "      <td>206773</td>\n",
              "      <td>False</td>\n",
              "      <td>0.421</td>\n",
              "      <td>0.858</td>\n",
              "      <td>1</td>\n",
              "      <td>...</td>\n",
              "      <td>1</td>\n",
              "      <td>0.0963</td>\n",
              "      <td>0.0134</td>\n",
              "      <td>0.0</td>\n",
              "      <td>0.067</td>\n",
              "      <td>0.491</td>\n",
              "      <td>173.255</td>\n",
              "      <td>4</td>\n",
              "      <td>punkrock punk</td>\n",
              "      <td>music vocal presto major stentorian clean punk...</td>\n",
              "    </tr>\n",
              "  </tbody>\n",
              "</table>\n",
              "<p>1 rows × 21 columns</p>\n",
              "</div>"
            ],
            "text/plain": [
              "                    track_id      artists             album_name  \\\n",
              "7953  10rChmECwPcvTTj4w07hq4  Simple Plan  Still Not Getting Any   \n",
              "\n",
              "              track_name  popularity  duration_ms  explicit  danceability  \\\n",
              "7953  Welcome to My Life          69       206773     False         0.421   \n",
              "\n",
              "      energy  key  ...  mode  speechiness  acousticness  instrumentalness  \\\n",
              "7953   0.858    1  ...     1       0.0963        0.0134               0.0   \n",
              "\n",
              "      liveness  valence    tempo  time_signature    track_genre  \\\n",
              "7953     0.067    0.491  173.255               4  punkrock punk   \n",
              "\n",
              "                                                content  \n",
              "7953  music vocal presto major stentorian clean punk...  \n",
              "\n",
              "[1 rows x 21 columns]"
            ]
          },
          "execution_count": 32,
          "metadata": {},
          "output_type": "execute_result"
        }
      ],
      "source": [
        "track_prep[track_prep['track_id'] == '10rChmECwPcvTTj4w07hq4']"
      ]
    },
    {
      "cell_type": "markdown",
      "source": [
        "Hasil rekomendasi content-based filtering yang menampilkan 5 lagu serupa dengan lagu ID '10rChmECwPcvTTj4w07hq4'"
      ],
      "metadata": {
        "id": "BKuyyEV16VA8"
      }
    },
    {
      "cell_type": "code",
      "execution_count": null,
      "metadata": {
        "colab": {
          "base_uri": "https://localhost:8080/",
          "height": 661
        },
        "id": "Zu9KqrX5x8r2",
        "outputId": "3c7d61a9-1108-4f2f-e47d-41c28c865f80"
      },
      "outputs": [
        {
          "data": {
            "text/html": [
              "<div>\n",
              "<style scoped>\n",
              "    .dataframe tbody tr th:only-of-type {\n",
              "        vertical-align: middle;\n",
              "    }\n",
              "\n",
              "    .dataframe tbody tr th {\n",
              "        vertical-align: top;\n",
              "    }\n",
              "\n",
              "    .dataframe thead th {\n",
              "        text-align: right;\n",
              "    }\n",
              "</style>\n",
              "<table border=\"1\" class=\"dataframe\">\n",
              "  <thead>\n",
              "    <tr style=\"text-align: right;\">\n",
              "      <th></th>\n",
              "      <th>artists</th>\n",
              "      <th>track_name</th>\n",
              "      <th>content</th>\n",
              "      <th>score</th>\n",
              "    </tr>\n",
              "    <tr>\n",
              "      <th>track_id</th>\n",
              "      <th></th>\n",
              "      <th></th>\n",
              "      <th></th>\n",
              "      <th></th>\n",
              "    </tr>\n",
              "  </thead>\n",
              "  <tbody>\n",
              "    <tr>\n",
              "      <th>7sziTn5nHwrWf4K7gISaaU</th>\n",
              "      <td>Simple Plan;Sean Paul</td>\n",
              "      <td>Summer Paradise (feat. Sean Paul) - Single Ver...</td>\n",
              "      <td>music vocal presto major stentorian clean punk...</td>\n",
              "      <td>1.0</td>\n",
              "    </tr>\n",
              "    <tr>\n",
              "      <th>371Tb0eNfpjpSqggjcLv8c</th>\n",
              "      <td>All Time Low</td>\n",
              "      <td>Therapy</td>\n",
              "      <td>music vocal presto major stentorian clean punk...</td>\n",
              "      <td>1.0</td>\n",
              "    </tr>\n",
              "    <tr>\n",
              "      <th>2m1hi0nfMR9vdGC8UcrnwU</th>\n",
              "      <td>blink-182</td>\n",
              "      <td>All The Small Things</td>\n",
              "      <td>music vocal presto major stentorian clean punk...</td>\n",
              "      <td>1.0</td>\n",
              "    </tr>\n",
              "    <tr>\n",
              "      <th>4NnWuGQujzWUEg0uZokO5M</th>\n",
              "      <td>The Cure</td>\n",
              "      <td>Just Like Heaven</td>\n",
              "      <td>music vocal presto major stentorian clean punk...</td>\n",
              "      <td>1.0</td>\n",
              "    </tr>\n",
              "    <tr>\n",
              "      <th>0I329vpTJRdSRjEcWaQsSL</th>\n",
              "      <td>Simple Plan;Natasha Bedingfield</td>\n",
              "      <td>Jet Lag (feat. Natasha Bedingfield)</td>\n",
              "      <td>music vocal presto major stentorian clean punk...</td>\n",
              "      <td>1.0</td>\n",
              "    </tr>\n",
              "  </tbody>\n",
              "</table>\n",
              "</div>"
            ],
            "text/plain": [
              "                                                artists  \\\n",
              "track_id                                                  \n",
              "7sziTn5nHwrWf4K7gISaaU            Simple Plan;Sean Paul   \n",
              "371Tb0eNfpjpSqggjcLv8c                     All Time Low   \n",
              "2m1hi0nfMR9vdGC8UcrnwU                        blink-182   \n",
              "4NnWuGQujzWUEg0uZokO5M                         The Cure   \n",
              "0I329vpTJRdSRjEcWaQsSL  Simple Plan;Natasha Bedingfield   \n",
              "\n",
              "                                                               track_name  \\\n",
              "track_id                                                                    \n",
              "7sziTn5nHwrWf4K7gISaaU  Summer Paradise (feat. Sean Paul) - Single Ver...   \n",
              "371Tb0eNfpjpSqggjcLv8c                                            Therapy   \n",
              "2m1hi0nfMR9vdGC8UcrnwU                               All The Small Things   \n",
              "4NnWuGQujzWUEg0uZokO5M                                   Just Like Heaven   \n",
              "0I329vpTJRdSRjEcWaQsSL                Jet Lag (feat. Natasha Bedingfield)   \n",
              "\n",
              "                                                                  content  \\\n",
              "track_id                                                                    \n",
              "7sziTn5nHwrWf4K7gISaaU  music vocal presto major stentorian clean punk...   \n",
              "371Tb0eNfpjpSqggjcLv8c  music vocal presto major stentorian clean punk...   \n",
              "2m1hi0nfMR9vdGC8UcrnwU  music vocal presto major stentorian clean punk...   \n",
              "4NnWuGQujzWUEg0uZokO5M  music vocal presto major stentorian clean punk...   \n",
              "0I329vpTJRdSRjEcWaQsSL  music vocal presto major stentorian clean punk...   \n",
              "\n",
              "                        score  \n",
              "track_id                       \n",
              "7sziTn5nHwrWf4K7gISaaU    1.0  \n",
              "371Tb0eNfpjpSqggjcLv8c    1.0  \n",
              "2m1hi0nfMR9vdGC8UcrnwU    1.0  \n",
              "4NnWuGQujzWUEg0uZokO5M    1.0  \n",
              "0I329vpTJRdSRjEcWaQsSL    1.0  "
            ]
          },
          "execution_count": 85,
          "metadata": {},
          "output_type": "execute_result"
        }
      ],
      "source": [
        "cb_rec = recommendations('10rChmECwPcvTTj4w07hq4')\n",
        "cb_rec"
      ]
    },
    {
      "cell_type": "markdown",
      "source": [
        "**Dot Product**\n",
        "\n",
        "Membangun model rekomendasi *collaborative filtering* yang memberikan rekomendasi berdasarkan kemiripan item dengan pengguna lainnya"
      ],
      "metadata": {
        "id": "a3cu7xKTvc4Y"
      }
    },
    {
      "cell_type": "code",
      "execution_count": null,
      "metadata": {
        "id": "3cAf3CzMagQi"
      },
      "outputs": [],
      "source": [
        "class RecommenderNet(keras.Model):\n",
        "    def __init__(self, num_users, num_tracks, embedding_size, **kwargs):\n",
        "        super(RecommenderNet, self).__init__(**kwargs)\n",
        "        self.num_users = num_users\n",
        "        self.num_tracks = num_tracks\n",
        "        self.embedding_size = embedding_size\n",
        "        self.user_embedding = layers.Embedding(\n",
        "            num_users,\n",
        "            embedding_size,\n",
        "            embeddings_initializer = 'he_normal',\n",
        "            embeddings_regularizer = keras.regularizers.l2(1e-6)\n",
        "        )\n",
        "        self.user_bias = layers.Embedding(num_users, 1)\n",
        "        self.track_embedding = layers.Embedding(\n",
        "            num_tracks,\n",
        "            embedding_size,\n",
        "            embeddings_initializer = 'he_normal',\n",
        "            embeddings_regularizer = keras.regularizers.l2(1e-6)\n",
        "        )\n",
        "        self.track_bias = layers.Embedding(num_tracks, 1)\n",
        "\n",
        "    def call(self, inputs):\n",
        "        user_vector = self.user_embedding(inputs[:,0])\n",
        "        user_bias = self.user_bias(inputs[:, 0])\n",
        "        track_vector = self.track_embedding(inputs[:, 1])\n",
        "        track_bias = self.track_bias(inputs[:, 1])\n",
        "\n",
        "        dot_user_track = tf.tensordot(user_vector, track_vector, 2)\n",
        "        x = dot_user_track + user_bias + track_bias\n",
        "        return tf.nn.sigmoid(x)"
      ]
    },
    {
      "cell_type": "code",
      "execution_count": null,
      "metadata": {
        "id": "EsQK2bbOagQi"
      },
      "outputs": [],
      "source": [
        "num_users = len(user_to_code)\n",
        "num_tracks = len(track_to_code)\n",
        "\n",
        "model = RecommenderNet(num_users, num_tracks, 50)\n",
        "model.compile(\n",
        "    loss = keras.losses.BinaryCrossentropy(),\n",
        "    optimizer = keras.optimizers.Adam(learning_rate=0.001),\n",
        "    metrics=[keras.metrics.RootMeanSquaredError()]\n",
        ")"
      ]
    },
    {
      "cell_type": "code",
      "execution_count": null,
      "metadata": {
        "id": "6WN9sUlEagQi",
        "outputId": "eda095ec-2063-4041-b19a-a5aef2a601d3"
      },
      "outputs": [
        {
          "name": "stdout",
          "output_type": "stream",
          "text": [
            "Epoch 1/10\n",
            "2242/2242 [==============================] - 6s 2ms/step - loss: 0.5236 - root_mean_squared_error: 0.2626 - val_loss: 0.3955 - val_root_mean_squared_error: 0.1196\n",
            "Epoch 2/10\n",
            "2242/2242 [==============================] - 4s 2ms/step - loss: 0.3901 - root_mean_squared_error: 0.1132 - val_loss: 0.3945 - val_root_mean_squared_error: 0.1191\n",
            "Epoch 3/10\n",
            "2242/2242 [==============================] - 4s 2ms/step - loss: 0.3867 - root_mean_squared_error: 0.1096 - val_loss: 0.3935 - val_root_mean_squared_error: 0.1187\n",
            "Epoch 4/10\n",
            "2242/2242 [==============================] - 3s 1ms/step - loss: 0.3846 - root_mean_squared_error: 0.1073 - val_loss: 0.3918 - val_root_mean_squared_error: 0.1169\n",
            "Epoch 5/10\n",
            "2242/2242 [==============================] - 3s 1ms/step - loss: 0.3832 - root_mean_squared_error: 0.1058 - val_loss: 0.3905 - val_root_mean_squared_error: 0.1155\n",
            "Epoch 6/10\n",
            "2242/2242 [==============================] - 3s 1ms/step - loss: 0.3822 - root_mean_squared_error: 0.1047 - val_loss: 0.3890 - val_root_mean_squared_error: 0.1136\n",
            "Epoch 7/10\n",
            "2242/2242 [==============================] - 3s 1ms/step - loss: 0.3815 - root_mean_squared_error: 0.1041 - val_loss: 0.3892 - val_root_mean_squared_error: 0.1143\n",
            "Epoch 8/10\n",
            "2242/2242 [==============================] - 3s 1ms/step - loss: 0.3807 - root_mean_squared_error: 0.1034 - val_loss: 0.3894 - val_root_mean_squared_error: 0.1149\n",
            "Epoch 9/10\n",
            "2242/2242 [==============================] - 3s 1ms/step - loss: 0.3805 - root_mean_squared_error: 0.1030 - val_loss: 0.3877 - val_root_mean_squared_error: 0.1126\n",
            "Epoch 10/10\n",
            "2242/2242 [==============================] - 3s 1ms/step - loss: 0.3802 - root_mean_squared_error: 0.1026 - val_loss: 0.3881 - val_root_mean_squared_error: 0.1133\n"
          ]
        }
      ],
      "source": [
        "history = model.fit(\n",
        "    x = x_train,\n",
        "    y = y_train,\n",
        "    batch_size = 8,\n",
        "    epochs = 10,\n",
        "    validation_data = (x_val, y_val)\n",
        ")"
      ]
    },
    {
      "cell_type": "code",
      "execution_count": null,
      "metadata": {
        "id": "Um8XGCaKagQj",
        "outputId": "b6080de5-df52-4092-8274-9be8ccb3cf7b"
      },
      "outputs": [
        {
          "data": {
            "image/png": "[encoded data removed]",
            "text/plain": [
              "<Figure size 640x480 with 1 Axes>"
            ]
          },
          "metadata": {},
          "output_type": "display_data"
        }
      ],
      "source": [
        "plt.plot(history.history['root_mean_squared_error'])\n",
        "plt.plot(history.history['val_root_mean_squared_error'])\n",
        "plt.title('model_metrics')\n",
        "plt.ylabel('root_mean_squared_error')\n",
        "plt.xlabel('epoch')\n",
        "plt.legend(['train', 'test'], loc='upper left')\n",
        "plt.show()"
      ]
    },
    {
      "cell_type": "markdown",
      "source": [
        "Pengujian model *collaborative filtering* untuk pengguna dengan ID 'U00007'"
      ],
      "metadata": {
        "id": "LQxobbVC5s_R"
      }
    },
    {
      "cell_type": "code",
      "execution_count": null,
      "metadata": {
        "id": "KX7KuhGhagQg"
      },
      "outputs": [],
      "source": [
        "def get_user_tracks(id):\n",
        "    user_track = user_merged[user_merged['user_id'] == id]\n",
        "    user_track = user_track.sort_values('ms_played', ascending=False)\n",
        "    return user_track[['track_id', 'artists', 'track_name_x', 'track_genre', 'ms_played']]"
      ]
    },
    {
      "cell_type": "markdown",
      "source": [
        "Menampilkan riwayat lagu yang didengarkan oleh pengguna"
      ],
      "metadata": {
        "id": "9qFXHN9A59Pm"
      }
    },
    {
      "cell_type": "code",
      "execution_count": null,
      "metadata": {
        "id": "eth8IhG4agQg",
        "outputId": "9cac1d2e-4c75-4b7e-b650-e941e5c2902a"
      },
      "outputs": [
        {
          "data": {
            "text/html": [
              "<div>\n",
              "<style scoped>\n",
              "    .dataframe tbody tr th:only-of-type {\n",
              "        vertical-align: middle;\n",
              "    }\n",
              "\n",
              "    .dataframe tbody tr th {\n",
              "        vertical-align: top;\n",
              "    }\n",
              "\n",
              "    .dataframe thead th {\n",
              "        text-align: right;\n",
              "    }\n",
              "</style>\n",
              "<table border=\"1\" class=\"dataframe\">\n",
              "  <thead>\n",
              "    <tr style=\"text-align: right;\">\n",
              "      <th></th>\n",
              "      <th>track_id</th>\n",
              "      <th>artists</th>\n",
              "      <th>track_name_x</th>\n",
              "      <th>track_genre</th>\n",
              "      <th>ms_played</th>\n",
              "    </tr>\n",
              "  </thead>\n",
              "  <tbody>\n",
              "    <tr>\n",
              "      <th>11608</th>\n",
              "      <td>5hhVpGIBlqAU5yJEOmrk5o</td>\n",
              "      <td>Led Zeppelin</td>\n",
              "      <td>All My Love - Remaster</td>\n",
              "      <td>hardrock</td>\n",
              "      <td>353720</td>\n",
              "    </tr>\n",
              "    <tr>\n",
              "      <th>18816</th>\n",
              "      <td>1BLOVHYYlH4JUHQGcpt75R</td>\n",
              "      <td>The Strokes</td>\n",
              "      <td>Ode To The Mets</td>\n",
              "      <td>altrock garage</td>\n",
              "      <td>351786</td>\n",
              "    </tr>\n",
              "    <tr>\n",
              "      <th>8669</th>\n",
              "      <td>70C4NyhjD5OZUMzvWZ3njJ</td>\n",
              "      <td>Billy Joel</td>\n",
              "      <td>Piano Man</td>\n",
              "      <td>folk piano singersongwriter songwriter</td>\n",
              "      <td>339000</td>\n",
              "    </tr>\n",
              "    <tr>\n",
              "      <th>15395</th>\n",
              "      <td>78WVLOP9pN0G3gRLFy1rAa</td>\n",
              "      <td>Billy Joel</td>\n",
              "      <td>Piano Man</td>\n",
              "      <td>piano</td>\n",
              "      <td>336200</td>\n",
              "    </tr>\n",
              "    <tr>\n",
              "      <th>4840</th>\n",
              "      <td>2oaK4JLVnmRGIO9ytBE1bt</td>\n",
              "      <td>Red Hot Chili Peppers</td>\n",
              "      <td>Dark Necessities</td>\n",
              "      <td>altrock alternative funk metal</td>\n",
              "      <td>302000</td>\n",
              "    </tr>\n",
              "  </tbody>\n",
              "</table>\n",
              "</div>"
            ],
            "text/plain": [
              "                     track_id                artists            track_name_x  \\\n",
              "11608  5hhVpGIBlqAU5yJEOmrk5o           Led Zeppelin  All My Love - Remaster   \n",
              "18816  1BLOVHYYlH4JUHQGcpt75R            The Strokes         Ode To The Mets   \n",
              "8669   70C4NyhjD5OZUMzvWZ3njJ             Billy Joel               Piano Man   \n",
              "15395  78WVLOP9pN0G3gRLFy1rAa             Billy Joel               Piano Man   \n",
              "4840   2oaK4JLVnmRGIO9ytBE1bt  Red Hot Chili Peppers        Dark Necessities   \n",
              "\n",
              "                                  track_genre  ms_played  \n",
              "11608                                hardrock     353720  \n",
              "18816                          altrock garage     351786  \n",
              "8669   folk piano singersongwriter songwriter     339000  \n",
              "15395                                   piano     336200  \n",
              "4840           altrock alternative funk metal     302000  "
            ]
          },
          "execution_count": 117,
          "metadata": {},
          "output_type": "execute_result"
        }
      ],
      "source": [
        "user_track = get_user_tracks('U00007')\n",
        "user_track.head()"
      ]
    },
    {
      "cell_type": "markdown",
      "source": [
        "Pemetaan genre yang paling lama didengar oleh pengguna"
      ],
      "metadata": {
        "id": "NRaJhapH6BUv"
      }
    },
    {
      "cell_type": "code",
      "execution_count": null,
      "metadata": {
        "id": "YFEWiPh2agQh",
        "outputId": "ed89705a-4a37-4920-f2f9-71564fd60e8e"
      },
      "outputs": [
        {
          "data": {
            "text/html": [
              "<div>\n",
              "<style scoped>\n",
              "    .dataframe tbody tr th:only-of-type {\n",
              "        vertical-align: middle;\n",
              "    }\n",
              "\n",
              "    .dataframe tbody tr th {\n",
              "        vertical-align: top;\n",
              "    }\n",
              "\n",
              "    .dataframe thead th {\n",
              "        text-align: right;\n",
              "    }\n",
              "</style>\n",
              "<table border=\"1\" class=\"dataframe\">\n",
              "  <thead>\n",
              "    <tr style=\"text-align: right;\">\n",
              "      <th></th>\n",
              "      <th>ms_played</th>\n",
              "    </tr>\n",
              "    <tr>\n",
              "      <th>genre</th>\n",
              "      <th></th>\n",
              "    </tr>\n",
              "  </thead>\n",
              "  <tbody>\n",
              "    <tr>\n",
              "      <th>psychrock</th>\n",
              "      <td>2728243</td>\n",
              "    </tr>\n",
              "    <tr>\n",
              "      <th>singersongwriter</th>\n",
              "      <td>2011089</td>\n",
              "    </tr>\n",
              "    <tr>\n",
              "      <th>songwriter</th>\n",
              "      <td>2011089</td>\n",
              "    </tr>\n",
              "    <tr>\n",
              "      <th>rock</th>\n",
              "      <td>1975291</td>\n",
              "    </tr>\n",
              "    <tr>\n",
              "      <th>british</th>\n",
              "      <td>1958405</td>\n",
              "    </tr>\n",
              "  </tbody>\n",
              "</table>\n",
              "</div>"
            ],
            "text/plain": [
              "                  ms_played\n",
              "genre                      \n",
              "psychrock           2728243\n",
              "singersongwriter    2011089\n",
              "songwriter          2011089\n",
              "rock                1975291\n",
              "british             1958405"
            ]
          },
          "execution_count": 118,
          "metadata": {},
          "output_type": "execute_result"
        }
      ],
      "source": [
        "user_genres = Counter()\n",
        "for i, row in user_track.iterrows():\n",
        "    for j in row['track_genre'].split(' '):\n",
        "        user_genres[j] += row['ms_played']\n",
        "\n",
        "user_genres_ms = pd.DataFrame.from_dict(user_genres, orient='index').reset_index()\n",
        "user_genres_ms = user_genres_ms.rename(columns = {'index': 'genre', 0: 'ms_played'})\n",
        "user_genres_ms.set_index('genre', inplace=True)\n",
        "user_genres_ms = user_genres_ms.sort_values('ms_played', ascending=False)\n",
        "user_genres_ms[:5]"
      ]
    },
    {
      "cell_type": "markdown",
      "source": [
        "Hasil rekomendasi *collaborative filtering* untuk pengguna ID 'U00007'"
      ],
      "metadata": {
        "id": "ts9xtgPu6I6F"
      }
    },
    {
      "cell_type": "code",
      "execution_count": null,
      "metadata": {
        "id": "2inL7eZ4agQj"
      },
      "outputs": [],
      "source": [
        "user_id = 'U00007'\n",
        "user_history = user_prep[user_prep['user_id'] == user_id]\n",
        "track_not_listened = track_prep[~track_prep['track_id'].isin(user_history['track_id'].values)]['track_id']\n",
        "track_not_listened = list(set(track_not_listened).intersection(set(track_to_code.keys())))\n",
        "track_code_not_listened = [[track_to_code.get(x)] for x in track_not_listened]\n",
        "\n",
        "user_code = user_to_code.get(user_id)\n",
        "user_track_array = np.hstack(\n",
        "    ([[user_code]] * len(track_code_not_listened), track_code_not_listened)\n",
        ")"
      ]
    },
    {
      "cell_type": "code",
      "execution_count": null,
      "metadata": {
        "id": "n4mNvPhiagQj",
        "outputId": "cd8cfbfa-b9f8-44e8-f726-aab9c5b73b57"
      },
      "outputs": [
        {
          "name": "stdout",
          "output_type": "stream",
          "text": [
            "35/35 [==============================] - 0s 974us/step\n"
          ]
        },
        {
          "data": {
            "text/html": [
              "<div>\n",
              "<style scoped>\n",
              "    .dataframe tbody tr th:only-of-type {\n",
              "        vertical-align: middle;\n",
              "    }\n",
              "\n",
              "    .dataframe tbody tr th {\n",
              "        vertical-align: top;\n",
              "    }\n",
              "\n",
              "    .dataframe thead th {\n",
              "        text-align: right;\n",
              "    }\n",
              "</style>\n",
              "<table border=\"1\" class=\"dataframe\">\n",
              "  <thead>\n",
              "    <tr style=\"text-align: right;\">\n",
              "      <th></th>\n",
              "      <th>track_id</th>\n",
              "      <th>artists</th>\n",
              "      <th>track_name</th>\n",
              "      <th>track_genre</th>\n",
              "    </tr>\n",
              "  </thead>\n",
              "  <tbody>\n",
              "    <tr>\n",
              "      <th>820</th>\n",
              "      <td>3qiyyUfYe7CRYLucrPmulD</td>\n",
              "      <td>The Who</td>\n",
              "      <td>Baba O'Riley</td>\n",
              "      <td>blues british hardrock psychrock</td>\n",
              "    </tr>\n",
              "    <tr>\n",
              "      <th>1105</th>\n",
              "      <td>1Ud6moTC0KyXMq1Oxfien0</td>\n",
              "      <td>The Rolling Stones</td>\n",
              "      <td>Sympathy For The Devil - 50th Anniversary Edition</td>\n",
              "      <td>british</td>\n",
              "    </tr>\n",
              "    <tr>\n",
              "      <th>6341</th>\n",
              "      <td>2ksOAxtIxY8yElEWw8RhgK</td>\n",
              "      <td>Anuel AA;Daddy Yankee;KAROL G;J Balvin;Ozuna</td>\n",
              "      <td>China</td>\n",
              "      <td>latino reggae reggaeton</td>\n",
              "    </tr>\n",
              "    <tr>\n",
              "      <th>7870</th>\n",
              "      <td>5p3JunprHCxClJjOmcLV8G</td>\n",
              "      <td>Lou Reed</td>\n",
              "      <td>Walk On the Wild Side</td>\n",
              "      <td>psychrock</td>\n",
              "    </tr>\n",
              "    <tr>\n",
              "      <th>8624</th>\n",
              "      <td>5gbxzSqABThINGDb7vIiwe</td>\n",
              "      <td>John Mayer</td>\n",
              "      <td>Edge of Desire</td>\n",
              "      <td>singersongwriter songwriter</td>\n",
              "    </tr>\n",
              "  </tbody>\n",
              "</table>\n",
              "</div>"
            ],
            "text/plain": [
              "                    track_id                                       artists  \\\n",
              "820   3qiyyUfYe7CRYLucrPmulD                                       The Who   \n",
              "1105  1Ud6moTC0KyXMq1Oxfien0                            The Rolling Stones   \n",
              "6341  2ksOAxtIxY8yElEWw8RhgK  Anuel AA;Daddy Yankee;KAROL G;J Balvin;Ozuna   \n",
              "7870  5p3JunprHCxClJjOmcLV8G                                      Lou Reed   \n",
              "8624  5gbxzSqABThINGDb7vIiwe                                    John Mayer   \n",
              "\n",
              "                                             track_name  \\\n",
              "820                                        Baba O'Riley   \n",
              "1105  Sympathy For The Devil - 50th Anniversary Edition   \n",
              "6341                                              China   \n",
              "7870                              Walk On the Wild Side   \n",
              "8624                                     Edge of Desire   \n",
              "\n",
              "                           track_genre  \n",
              "820   blues british hardrock psychrock  \n",
              "1105                           british  \n",
              "6341           latino reggae reggaeton  \n",
              "7870                         psychrock  \n",
              "8624       singersongwriter songwriter  "
            ]
          },
          "execution_count": 132,
          "metadata": {},
          "output_type": "execute_result"
        }
      ],
      "source": [
        "pred_ms = model.predict(user_track_array).flatten()\n",
        "pred_ms_indices = pred_ms.argsort()[-5:][::-1]\n",
        "rec_track_ids = [\n",
        "    code_to_track.get(track_code_not_listened[x][0]) for x in pred_ms_indices\n",
        "]\n",
        "\n",
        "rec_user_track = track_prep[track_prep['track_id'].isin(rec_track_ids)]\n",
        "rec_user_track[['track_id', 'artists', 'track_name', 'track_genre']]"
      ]
    },
    {
      "cell_type": "markdown",
      "metadata": {
        "id": "gsExuzqPagQj"
      },
      "source": [
        "# **Model Evaluation**"
      ]
    },
    {
      "cell_type": "markdown",
      "source": [
        "Evaluasi model *content-based filtering* dengan metrik Precision at K dengan hasil **1.0**"
      ],
      "metadata": {
        "id": "uW4ej4CP6f6b"
      }
    },
    {
      "cell_type": "code",
      "execution_count": null,
      "metadata": {
        "id": "srvUCYf_agQj",
        "outputId": "1f222f37-b19c-41d6-a447-8eb85a8e68a5"
      },
      "outputs": [
        {
          "name": "stdout",
          "output_type": "stream",
          "text": [
            "Precision at 5: 1.0\n"
          ]
        }
      ],
      "source": [
        "cb_track = track_prep[track_prep['track_id'] == '10rChmECwPcvTTj4w07hq4']\n",
        "cb_track_content = cb_track['content'].values[0]\n",
        "cb_relevant = cb_rec[cb_rec['content'] == cb_track_content]\n",
        "print(f\"Precision at 5: {len(cb_relevant)/5}\")"
      ]
    },
    {
      "cell_type": "markdown",
      "source": [
        "Evaluasi model *collaborative filtering* dengan metrik Root Mean Squared Error (RMSE) dengan hasil **177.973,790** ms (≈3 menit)."
      ],
      "metadata": {
        "id": "YaLQfHiC6ppi"
      }
    },
    {
      "cell_type": "code",
      "execution_count": null,
      "metadata": {
        "id": "im83lGhlagQk",
        "outputId": "35b47c8c-07b4-42f3-ec45-bafbd866a583"
      },
      "outputs": [
        {
          "name": "stdout",
          "output_type": "stream",
          "text": [
            "141/141 [==============================] - 0s 1ms/step\n",
            "RMSE: 177973.790\n"
          ]
        }
      ],
      "source": [
        "pred_val = model.predict(x_val).flatten()\n",
        "mse_val = mean_squared_error(y_true=y_val, y_pred=pred_val)\n",
        "scaled_rmse_val = np.sqrt(mse_val)\n",
        "rmse_val = (scaled_rmse_val * (max_ms - min_ms)) + min_ms\n",
        "rmse_val= '{0:.3f}'.format(rmse_val)\n",
        "print(f\"RMSE: {rmse_val}\")"
      ]
    }
  ],
  "metadata": {
    "colab": {
      "provenance": []
    },
    "kernelspec": {
      "display_name": "Python 3",
      "name": "python3"
    },
    "language_info": {
      "codemirror_mode": {
        "name": "ipython",
        "version": 3
      },
      "file_extension": ".py",
      "mimetype": "text/x-python",
      "name": "python",
      "nbconvert_exporter": "python",
      "pygments_lexer": "ipython3",
      "version": "3.11.9"
    }
  },
  "nbformat": 4,
  "nbformat_minor": 0
}